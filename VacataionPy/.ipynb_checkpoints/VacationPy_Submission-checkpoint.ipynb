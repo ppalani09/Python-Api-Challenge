{
 "cells": [
  {
   "cell_type": "markdown",
   "metadata": {},
   "source": [
    "# VacationPy\n",
    "----\n",
    "\n",
    "#### Note\n",
    "* Keep an eye on your API usage. Use https://developers.google.com/maps/reporting/gmp-reporting as reference for how to monitor your usage and billing.\n",
    "\n",
    "* Instructions have been included for each segment. You do not have to follow them exactly, but they are included to help you think through the steps."
   ]
  },
  {
   "cell_type": "code",
   "execution_count": 161,
   "metadata": {},
   "outputs": [
    {
     "name": "stdout",
     "output_type": "stream",
     "text": [
      "\n",
      "API key import successfully completed.\n",
      "\n"
     ]
    }
   ],
   "source": [
    "# Dependencies and Setup\n",
    "import matplotlib.pyplot as plt\n",
    "import pandas as pd\n",
    "import numpy as np\n",
    "import requests\n",
    "import gmaps\n",
    "import os\n",
    "\n",
    "# set gmaps api key\n",
    "api_txt = \"C:/Users/palan/NW-Data-Science/Google Maps API Key.txt\"\n",
    "txt = open(api_txt,\"r\")\n",
    "\n",
    "with txt:\n",
    "    \n",
    "    gkey = txt.read()\n",
    "   \n",
    "print('\\nAPI key import successfully completed.\\n')\n",
    "\n",
    "# from api_keys import g_key"
   ]
  },
  {
   "cell_type": "markdown",
   "metadata": {},
   "source": [
    "### Store Part I results into DataFrame\n",
    "* Load the csv exported in Part I to a DataFrame"
   ]
  },
  {
   "cell_type": "code",
   "execution_count": 162,
   "metadata": {},
   "outputs": [
    {
     "name": "stdout",
     "output_type": "stream",
     "text": [
      "\n",
      "Cities data loaded succesfully.\n",
      "\n"
     ]
    }
   ],
   "source": [
    "# Retrieve data from CSV output file\n",
    "cities_path = \"C:/Users/palan/NW-Data-Science/Python-Api-Challenge/output_data/output_cities.csv\"\n",
    "cities_df = pd.read_csv(cities_path)\n",
    "\n",
    "print('\\nCities data loaded succesfully.\\n')\n"
   ]
  },
  {
   "cell_type": "markdown",
   "metadata": {},
   "source": [
    "### Humidity Heatmap\n",
    "* Configure gmaps.\n",
    "* Use the Lat and Lng as locations and Humidity as the weight.\n",
    "* Add Heatmap layer to map."
   ]
  },
  {
   "cell_type": "code",
   "execution_count": 159,
   "metadata": {},
   "outputs": [
    {
     "data": {
      "application/vnd.jupyter.widget-view+json": {
       "model_id": "337746e382684fa389c57322fbb0de10",
       "version_major": 2,
       "version_minor": 0
      },
      "text/plain": [
       "Figure(layout=FigureLayout(border='1px solid black', height='420px', padding='1px', width='300 px'))"
      ]
     },
     "metadata": {},
     "output_type": "display_data"
    }
   ],
   "source": [
    "import gmaps\n",
    "# from config import gkey\n",
    "\n",
    "# configuring api key\n",
    "gmaps.configure(api_key = gkey)\n",
    "\n",
    "# initiating map\n",
    "fig = gmaps.figure()\n",
    "\n",
    "# specifying maps figure parameters\n",
    "figure_layout = {\n",
    "    'width': '400 px',\n",
    "    'width': '300 px',\n",
    "    'border': '1px solid black',\n",
    "    'padding': '1px'\n",
    "                    }\n",
    "\n",
    "\n",
    "fig = gmaps.figure(layout = figure_layout)\n",
    "\n",
    "# specifying location & weight values for heat map layer\n",
    "locations = cities_df[[\"Latitude\", \"Longitude\"]].astype(float)\n",
    "humidity = cities_df['Humidity'].astype(float)\n",
    "\n",
    "heat_layer = gmaps.heatmap_layer(locations, weights = humidity, \n",
    "                                 dissipating = False, max_intensity = 100,\n",
    "                                 point_radius = 3)\n",
    "\n",
    "# adding heat map layer\n",
    "fig.add_layer(heat_layer)\n",
    "\n",
    "fig\n"
   ]
  },
  {
   "cell_type": "markdown",
   "metadata": {},
   "source": [
    "### Create new DataFrame fitting weather criteria\n",
    "* Narrow down the cities to fit weather conditions.\n",
    "* Drop any rows will null values."
   ]
  },
  {
   "cell_type": "code",
   "execution_count": 183,
   "metadata": {
    "scrolled": true
   },
   "outputs": [
    {
     "name": "stdout",
     "output_type": "stream",
     "text": [
      "Cities with ideal conditions. Filtered out N/A rows.\n"
     ]
    },
    {
     "data": {
      "text/html": [
       "<div>\n",
       "<style scoped>\n",
       "    .dataframe tbody tr th:only-of-type {\n",
       "        vertical-align: middle;\n",
       "    }\n",
       "\n",
       "    .dataframe tbody tr th {\n",
       "        vertical-align: top;\n",
       "    }\n",
       "\n",
       "    .dataframe thead th {\n",
       "        text-align: right;\n",
       "    }\n",
       "</style>\n",
       "<table border=\"1\" class=\"dataframe\">\n",
       "  <thead>\n",
       "    <tr style=\"text-align: right;\">\n",
       "      <th></th>\n",
       "      <th>index</th>\n",
       "      <th>City Name</th>\n",
       "      <th>Latitude</th>\n",
       "      <th>Longitude</th>\n",
       "      <th>Max Temperature [C]</th>\n",
       "      <th>Humidity</th>\n",
       "      <th>Cloudiness</th>\n",
       "      <th>Wind Speed</th>\n",
       "    </tr>\n",
       "  </thead>\n",
       "  <tbody>\n",
       "    <tr>\n",
       "      <th>0</th>\n",
       "      <td>72</td>\n",
       "      <td>Santa Catarina de Tepehuanes</td>\n",
       "      <td>25.35</td>\n",
       "      <td>-105.73</td>\n",
       "      <td>25.48</td>\n",
       "      <td>27</td>\n",
       "      <td>2</td>\n",
       "      <td>2.908022</td>\n",
       "    </tr>\n",
       "    <tr>\n",
       "      <th>1</th>\n",
       "      <td>102</td>\n",
       "      <td>Yabrūd</td>\n",
       "      <td>33.97</td>\n",
       "      <td>36.66</td>\n",
       "      <td>21.15</td>\n",
       "      <td>19</td>\n",
       "      <td>0</td>\n",
       "      <td>3.355410</td>\n",
       "    </tr>\n",
       "    <tr>\n",
       "      <th>2</th>\n",
       "      <td>224</td>\n",
       "      <td>Gachsaran</td>\n",
       "      <td>30.36</td>\n",
       "      <td>50.80</td>\n",
       "      <td>24.15</td>\n",
       "      <td>29</td>\n",
       "      <td>0</td>\n",
       "      <td>4.697574</td>\n",
       "    </tr>\n",
       "    <tr>\n",
       "      <th>3</th>\n",
       "      <td>288</td>\n",
       "      <td>Sur</td>\n",
       "      <td>22.57</td>\n",
       "      <td>59.53</td>\n",
       "      <td>23.58</td>\n",
       "      <td>58</td>\n",
       "      <td>4</td>\n",
       "      <td>4.115970</td>\n",
       "    </tr>\n",
       "    <tr>\n",
       "      <th>4</th>\n",
       "      <td>289</td>\n",
       "      <td>Uchiza</td>\n",
       "      <td>-8.46</td>\n",
       "      <td>-76.46</td>\n",
       "      <td>34.75</td>\n",
       "      <td>35</td>\n",
       "      <td>8</td>\n",
       "      <td>2.236940</td>\n",
       "    </tr>\n",
       "    <tr>\n",
       "      <th>5</th>\n",
       "      <td>311</td>\n",
       "      <td>Salalah</td>\n",
       "      <td>17.02</td>\n",
       "      <td>54.09</td>\n",
       "      <td>27.15</td>\n",
       "      <td>42</td>\n",
       "      <td>0</td>\n",
       "      <td>4.697574</td>\n",
       "    </tr>\n",
       "    <tr>\n",
       "      <th>6</th>\n",
       "      <td>319</td>\n",
       "      <td>Yago</td>\n",
       "      <td>21.83</td>\n",
       "      <td>-105.07</td>\n",
       "      <td>26.15</td>\n",
       "      <td>54</td>\n",
       "      <td>5</td>\n",
       "      <td>2.527742</td>\n",
       "    </tr>\n",
       "    <tr>\n",
       "      <th>7</th>\n",
       "      <td>325</td>\n",
       "      <td>Najrān</td>\n",
       "      <td>17.49</td>\n",
       "      <td>44.13</td>\n",
       "      <td>24.15</td>\n",
       "      <td>17</td>\n",
       "      <td>0</td>\n",
       "      <td>4.697574</td>\n",
       "    </tr>\n",
       "    <tr>\n",
       "      <th>8</th>\n",
       "      <td>327</td>\n",
       "      <td>Coahuayana Viejo</td>\n",
       "      <td>18.73</td>\n",
       "      <td>-103.68</td>\n",
       "      <td>27.15</td>\n",
       "      <td>78</td>\n",
       "      <td>5</td>\n",
       "      <td>4.317294</td>\n",
       "    </tr>\n",
       "    <tr>\n",
       "      <th>9</th>\n",
       "      <td>362</td>\n",
       "      <td>Bela</td>\n",
       "      <td>25.93</td>\n",
       "      <td>81.98</td>\n",
       "      <td>23.83</td>\n",
       "      <td>35</td>\n",
       "      <td>0</td>\n",
       "      <td>1.275056</td>\n",
       "    </tr>\n",
       "    <tr>\n",
       "      <th>10</th>\n",
       "      <td>418</td>\n",
       "      <td>Kavieng</td>\n",
       "      <td>-2.57</td>\n",
       "      <td>150.80</td>\n",
       "      <td>27.85</td>\n",
       "      <td>71</td>\n",
       "      <td>3</td>\n",
       "      <td>3.086977</td>\n",
       "    </tr>\n",
       "    <tr>\n",
       "      <th>11</th>\n",
       "      <td>449</td>\n",
       "      <td>Avera</td>\n",
       "      <td>33.19</td>\n",
       "      <td>-82.53</td>\n",
       "      <td>27.37</td>\n",
       "      <td>61</td>\n",
       "      <td>1</td>\n",
       "      <td>3.355410</td>\n",
       "    </tr>\n",
       "    <tr>\n",
       "      <th>12</th>\n",
       "      <td>488</td>\n",
       "      <td>Mahanoro</td>\n",
       "      <td>-19.90</td>\n",
       "      <td>48.80</td>\n",
       "      <td>21.80</td>\n",
       "      <td>77</td>\n",
       "      <td>5</td>\n",
       "      <td>2.035615</td>\n",
       "    </tr>\n",
       "  </tbody>\n",
       "</table>\n",
       "</div>"
      ],
      "text/plain": [
       "    index                     City Name  Latitude  Longitude  \\\n",
       "0      72  Santa Catarina de Tepehuanes     25.35    -105.73   \n",
       "1     102                        Yabrūd     33.97      36.66   \n",
       "2     224                     Gachsaran     30.36      50.80   \n",
       "3     288                           Sur     22.57      59.53   \n",
       "4     289                        Uchiza     -8.46     -76.46   \n",
       "5     311                       Salalah     17.02      54.09   \n",
       "6     319                          Yago     21.83    -105.07   \n",
       "7     325                        Najrān     17.49      44.13   \n",
       "8     327              Coahuayana Viejo     18.73    -103.68   \n",
       "9     362                          Bela     25.93      81.98   \n",
       "10    418                       Kavieng     -2.57     150.80   \n",
       "11    449                         Avera     33.19     -82.53   \n",
       "12    488                      Mahanoro    -19.90      48.80   \n",
       "\n",
       "    Max Temperature [C]  Humidity  Cloudiness  Wind Speed  \n",
       "0                 25.48        27           2    2.908022  \n",
       "1                 21.15        19           0    3.355410  \n",
       "2                 24.15        29           0    4.697574  \n",
       "3                 23.58        58           4    4.115970  \n",
       "4                 34.75        35           8    2.236940  \n",
       "5                 27.15        42           0    4.697574  \n",
       "6                 26.15        54           5    2.527742  \n",
       "7                 24.15        17           0    4.697574  \n",
       "8                 27.15        78           5    4.317294  \n",
       "9                 23.83        35           0    1.275056  \n",
       "10                27.85        71           3    3.086977  \n",
       "11                27.37        61           1    3.355410  \n",
       "12                21.80        77           5    2.035615  "
      ]
     },
     "execution_count": 183,
     "metadata": {},
     "output_type": "execute_result"
    }
   ],
   "source": [
    "# Retrieve data from CSV output file\n",
    "cities_path = \"C:/Users/palan/NW-Data-Science/Python-Api-Challenge/output_data/output_cities.csv\"\n",
    "cities_df = pd.read_csv(cities_path)\n",
    "\n",
    "#filter to cities with ideal living conditions\n",
    "ideal_cities = cities_df[(cities_df['Max Temperature [C]'].astype(float) > 20) & (cities_df['Max Temperature [C]'].astype(float) < 40) &\n",
    "                       (cities_df['Wind Speed'].astype(float) < 5) & (cities_df['Cloudiness'].astype(float) < 10)]\n",
    "\n",
    "# drop n/a rows & reset index\n",
    "ideal_cities = ideal_cities.dropna().reset_index()\n",
    "\n",
    "print('Cities with ideal conditions. Filtered out N/A rows.')\n",
    "\n",
    "ideal_cities\n"
   ]
  },
  {
   "cell_type": "markdown",
   "metadata": {},
   "source": [
    "### Hotel Map\n",
    "* Store into variable named `hotel_df`.\n",
    "* Add a \"Hotel Name\" column to the DataFrame.\n",
    "* Set parameters to search for hotels with 5000 meters.\n",
    "* Hit the Google Places API for each city's coordinates.\n",
    "* Store the first Hotel result into the DataFrame.\n",
    "* Plot markers on top of the heatmap."
   ]
  },
  {
   "cell_type": "code",
   "execution_count": 205,
   "metadata": {},
   "outputs": [],
   "source": [
    "json_list = []\n",
    "i = 0\n",
    "\n",
    "for row in ideal_cities.index:\n",
    "    \n",
    "    try:\n",
    "        lat = ideal_cities['Latitude'][row].astype('float')\n",
    "        lon = ideal_cities['Longitude'][row].astype('float')\n",
    "        # https://maps.googleapis.com/maps/api/place/nearbysearch/json?location=-33.8670522,151.1957362&radius=1500&type=restaurant&keyword=cruise&key=YOUR_API_KEY\n",
    "        hotel_url = 'https://maps.googleapis.com/maps/api/place/nearbysearch/json?location=' + lat + ',' + lon + '&type=lodging&key=' + gkey\n",
    "        hotel_output = requests.get(hotel_url).json()\n",
    "        json_list.append(hotel_output)\n",
    "\n",
    "    except:\n",
    "        \n",
    "        i = i + 1\n",
    "    "
   ]
  },
  {
   "cell_type": "code",
   "execution_count": null,
   "metadata": {},
   "outputs": [],
   "source": [
    "# NOTE: Do not change any of the code in this cell\n",
    "\n",
    "# Using the template add the hotel marks to the heatmap\n",
    "info_box_template = \"\"\"\n",
    "<dl>\n",
    "<dt>Name</dt><dd>{Hotel Name}</dd>\n",
    "<dt>City</dt><dd>{City}</dd>\n",
    "<dt>Country</dt><dd>{Country}</dd>\n",
    "</dl>\n",
    "\"\"\"\n",
    "# Store the DataFrame Row\n",
    "# NOTE: be sure to update with your DataFrame name\n",
    "hotel_info = [info_box_template.format(**row) for index, row in hotel_df.iterrows()]\n",
    "locations = hotel_df[[\"Lat\", \"Lng\"]]"
   ]
  },
  {
   "cell_type": "code",
   "execution_count": null,
   "metadata": {},
   "outputs": [],
   "source": [
    "# Add marker layer ontop of heat map\n",
    "\n",
    "\n",
    "# Display figure\n"
   ]
  }
 ],
 "metadata": {
  "kernelspec": {
   "display_name": "Python 3",
   "language": "python",
   "name": "python3"
  },
  "language_info": {
   "codemirror_mode": {
    "name": "ipython",
    "version": 3
   },
   "file_extension": ".py",
   "mimetype": "text/x-python",
   "name": "python",
   "nbconvert_exporter": "python",
   "pygments_lexer": "ipython3",
   "version": "3.8.3"
  },
  "latex_envs": {
   "LaTeX_envs_menu_present": true,
   "autoclose": false,
   "autocomplete": true,
   "bibliofile": "biblio.bib",
   "cite_by": "apalike",
   "current_citInitial": 1,
   "eqLabelWithNumbers": true,
   "eqNumInitial": 1,
   "hotkeys": {
    "equation": "Ctrl-E",
    "itemize": "Ctrl-I"
   },
   "labels_anchors": false,
   "latex_user_defs": false,
   "report_style_numbering": false,
   "user_envs_cfg": false
  }
 },
 "nbformat": 4,
 "nbformat_minor": 4
}
