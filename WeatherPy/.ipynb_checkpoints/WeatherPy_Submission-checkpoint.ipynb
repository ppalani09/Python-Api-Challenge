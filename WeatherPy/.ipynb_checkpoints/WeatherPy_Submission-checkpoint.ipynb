{
 "cells": [
  {
   "cell_type": "markdown",
   "metadata": {},
   "source": [
    "# WeatherPy\n",
    "----\n",
    "\n",
    "#### Note\n",
    "* Instructions have been included for each segment. You do not have to follow them exactly, but they are included to help you think through the steps."
   ]
  },
  {
   "cell_type": "code",
   "execution_count": 1,
   "metadata": {
    "scrolled": false
   },
   "outputs": [
    {
     "name": "stdout",
     "output_type": "stream",
     "text": [
      "Requirement already satisfied: citipy==0.0.5 in c:\\users\\palan\\anaconda3\\lib\\site-packages (0.0.5)\n",
      "Requirement already satisfied: kdtree>=0.12 in c:\\users\\palan\\anaconda3\\lib\\site-packages (from citipy==0.0.5) (0.16)\n"
     ]
    }
   ],
   "source": [
    "# Dependencies and Setup\n",
    "import matplotlib.pyplot as plt\n",
    "import pandas as pd\n",
    "# pd.options.mode.chained_assignment = None\n",
    "import numpy as np\n",
    "import json\n",
    "import requests\n",
    "import time\n",
    "import scipy.stats as st\n",
    "from scipy.stats import linregress\n",
    "from pprint import pprint\n",
    "\n",
    "# Incorporated citipy to determine city based on latitude and longitude\n",
    "!pip install citipy==0.0.5\n",
    "from citipy import citipy\n",
    "\n",
    "# Range of latitudes and longitudes\n",
    "lat_range = (-90, 90)\n",
    "lng_range = (-180, 180)"
   ]
  },
  {
   "cell_type": "markdown",
   "metadata": {},
   "source": [
    "## Generate Cities List"
   ]
  },
  {
   "cell_type": "code",
   "execution_count": 2,
   "metadata": {
    "scrolled": true
   },
   "outputs": [
    {
     "name": "stdout",
     "output_type": "stream",
     "text": [
      "\n",
      "Number of cities in list: 622\n"
     ]
    }
   ],
   "source": [
    "# List for holding lat_lngs and cities\n",
    "lat_lngs = []\n",
    "cities = []\n",
    "\n",
    "# Create a set of random lat and lng combinations\n",
    "lats = np.random.uniform(lat_range[0], lat_range[1], size=1500)\n",
    "lngs = np.random.uniform(lng_range[0], lng_range[1], size=1500)\n",
    "lat_lngs = zip(lats, lngs)\n",
    "\n",
    "\n",
    "# Identify nearest city for each lat, lng combination\n",
    "for lat_lng in lat_lngs:\n",
    "    city = citipy.nearest_city(lat_lng[0], lat_lng[1]).city_name\n",
    "    \n",
    "    # If the city is unique, then add it to a our cities list\n",
    "    if city not in cities:\n",
    "        cities.append(city)\n",
    "\n",
    "\n",
    "cities_count = len(cities)\n",
    "        \n",
    "# Print the city count to confirm sufficient count\n",
    "print(f'\\nNumber of cities in list: {len(cities)}')"
   ]
  },
  {
   "cell_type": "markdown",
   "metadata": {},
   "source": [
    "### Perform API Calls\n",
    "* Perform a weather check on each city using a series of successive API calls.\n",
    "* Include a print log of each city as it'sbeing processed (with the city number and city name).\n"
   ]
  },
  {
   "cell_type": "code",
   "execution_count": 3,
   "metadata": {
    "scrolled": true
   },
   "outputs": [
    {
     "name": "stdout",
     "output_type": "stream",
     "text": [
      "Request 1 of 622: teknaf | Completed\n",
      "Request 2 of 622: upernavik | Completed\n",
      "Request 3 of 622: asha | Completed\n",
      "Request 4 of 622: ambon | Completed\n",
      "Request 5 of 622: rawson | Completed\n",
      "Request 6 of 622: avarua | Completed\n",
      "Request 7 of 622: montataire | Completed\n",
      "Request 8 of 622: yar-sale | Completed\n",
      "Request 9 of 622: nanortalik | Completed\n",
      "Request 10 of 622: hilo | Completed\n",
      "Request 11 of 622: hobart | Completed\n",
      "Request 12 of 622: yellowknife | Completed\n",
      "Request 13 of 622: port alfred | Completed\n",
      "Request 14 of 622: hermanus | Completed\n",
      "Request 15 of 622: punta arenas | Completed\n",
      "Request 16 of 622: butaritari | Completed\n",
      "Request 17 of 622: puerto ayora | Completed\n",
      "Request 18 of 622: bethel | Completed\n",
      "Request 19 of 622: chulman | Completed\n",
      "Request 20 of 622: rikitea | Completed\n",
      "Request 21 of 622: vaitupu | Completed\n",
      "Request 22 of 622: okhotsk | Completed\n",
      "Request 23 of 622: taolanaro | Completed\n",
      "Request 24 of 622: chokurdakh | Completed\n",
      "Request 25 of 622: panalingaan | Completed\n",
      "Request 26 of 622: saint-philippe | Completed\n",
      "Request 27 of 622: busselton | Completed\n",
      "Request 28 of 622: leningradskiy | Completed\n",
      "Request 29 of 622: albany | Completed\n",
      "Request 30 of 622: amarillo | Completed\n",
      "Request 31 of 622: mosquera | Completed\n",
      "Request 32 of 622: khomeyn | Completed\n",
      "Request 33 of 622: vaini | Completed\n",
      "Request 34 of 622: batsfjord | Completed\n",
      "Request 35 of 622: barentsburg | Completed\n",
      "Request 36 of 622: mataura | Completed\n",
      "Request 37 of 622: jamestown | Completed\n",
      "Request 38 of 622: beruwala | Completed\n",
      "Request 39 of 622: velikiy ustyug | Completed\n",
      "Request 40 of 622: las vegas | Completed\n",
      "Request 41 of 622: champerico | Completed\n",
      "Request 42 of 622: illoqqortoormiut | Completed\n",
      "Request 43 of 622: bilma | Completed\n",
      "Request 44 of 622: stoyba | Completed\n",
      "Request 45 of 622: hals | Completed\n",
      "Request 46 of 622: tsihombe | Completed\n",
      "Request 47 of 622: los llanos de aridane | Completed\n",
      "Request 48 of 622: el coyote | Completed\n",
      "Request 49 of 622: victoria | Completed\n",
      "Request 50 of 622: lebu | Completed\n",
      "Request 51 of 622: bredasdorp | Completed\n",
      "Request 52 of 622: barrow | Completed\n",
      "Request 53 of 622: chuy | Completed\n",
      "Request 54 of 622: yerbogachen | Completed\n",
      "Request 55 of 622: sorkjosen | Completed\n",
      "Request 56 of 622: hornepayne | Completed\n",
      "Request 57 of 622: nadym | Completed\n",
      "Request 58 of 622: nizhniy odes | Completed\n",
      "Request 59 of 622: georgetown | Completed\n",
      "Request 60 of 622: bajram curri | Completed\n",
      "Request 61 of 622: skibbereen | Completed\n",
      "Request 62 of 622: pangnirtung | Completed\n",
      "Request 63 of 622: pacific grove | Completed\n",
      "Request 64 of 622: tazovskiy | Completed\n",
      "Request 65 of 622: airai | Completed\n",
      "Request 66 of 622: zabol | Completed\n",
      "Request 67 of 622: tsuyama | Completed\n",
      "Request 68 of 622: bathsheba | Completed\n",
      "Request 69 of 622: muisne | Completed\n",
      "Request 70 of 622: cape town | Completed\n",
      "Request 71 of 622: seoul | Completed\n",
      "Request 72 of 622: nikolskoye | Completed\n",
      "Request 73 of 622: ushuaia | Completed\n",
      "Request 74 of 622: acapulco | Completed\n",
      "Request 75 of 622: ilulissat | Completed\n",
      "Request 76 of 622: kloulklubed | Completed\n",
      "Request 77 of 622: castro | Completed\n",
      "Request 78 of 622: naze | Completed\n",
      "Request 79 of 622: atuona | Completed\n",
      "Request 80 of 622: kununurra | Completed\n",
      "Request 81 of 622: muyezerskiy | Completed\n",
      "Request 82 of 622: guaratuba | Completed\n",
      "Request 83 of 622: qixingtai | Completed\n",
      "Request 84 of 622: san carlos de bariloche | Completed\n",
      "Request 85 of 622: ubon ratchathani | Completed\n",
      "Request 86 of 622: esperance | Completed\n",
      "Request 87 of 622: port elizabeth | Completed\n",
      "Request 88 of 622: dingle | Completed\n",
      "Request 89 of 622: kapaa | Completed\n",
      "Request 90 of 622: cidreira | Completed\n",
      "Request 91 of 622: ancud | Completed\n",
      "Request 92 of 622: atotonilco el grande | Completed\n",
      "Request 93 of 622: torbay | Completed\n",
      "Request 94 of 622: praia da vitoria | Completed\n",
      "Request 95 of 622: saldanha | Completed\n",
      "Request 96 of 622: mahebourg | Completed\n",
      "Request 97 of 622: boa vista | Completed\n",
      "Request 98 of 622: san quintin | Completed\n",
      "Request 99 of 622: churapcha | Completed\n",
      "Request 100 of 622: voh | Completed\n",
      "Request 101 of 622: dikson | Completed\n",
      "Request 102 of 622: madaba | Completed\n",
      "Request 103 of 622: san juan | Completed\n",
      "Request 104 of 622: inuvik | Completed\n",
      "Request 105 of 622: okha | Completed\n",
      "Request 106 of 622: bocaiuva | Completed\n",
      "Request 107 of 622: luau | Completed\n",
      "Request 108 of 622: khatanga | Completed\n",
      "Request 109 of 622: aswan | Completed\n",
      "Request 110 of 622: sisimiut | Completed\n",
      "Request 111 of 622: bambous virieux | Completed\n",
      "Request 112 of 622: saskylakh | Completed\n",
      "Request 113 of 622: eyl | Completed\n",
      "Request 114 of 622: kaitangata | Completed\n",
      "Request 115 of 622: zaria | Completed\n",
      "Request 116 of 622: etchojoa | Completed\n",
      "Request 117 of 622: naral | Completed\n",
      "Request 118 of 622: geraldton | Completed\n",
      "Request 119 of 622: caravelas | Completed\n",
      "Request 120 of 622: chelno-vershiny | Completed\n",
      "Request 121 of 622: port hedland | Completed\n",
      "Request 122 of 622: chapais | Completed\n",
      "Request 123 of 622: atocha | Completed\n",
      "Request 124 of 622: altagracia de orituco | Completed\n",
      "Request 125 of 622: ambilobe | Completed\n",
      "Request 126 of 622: dumfries | Completed\n",
      "Request 127 of 622: sioux lookout | Completed\n",
      "Request 128 of 622: nyul | Completed\n",
      "Request 129 of 622: kavaratti | Completed\n",
      "Request 130 of 622: chapleau | Completed\n",
      "Request 131 of 622: faanui | Completed\n",
      "Request 132 of 622: ostrovnoy | Completed\n",
      "Request 133 of 622: sola | Completed\n",
      "Request 134 of 622: bluff | Completed\n",
      "Request 135 of 622: ribeira grande | Completed\n",
      "Request 136 of 622: qaanaaq | Completed\n",
      "Request 137 of 622: tawkar | Completed\n",
      "Request 138 of 622: new norfolk | Completed\n",
      "Request 139 of 622: husavik | Completed\n",
      "Request 140 of 622: chingirlau | Completed\n",
      "Request 141 of 622: east london | Completed\n",
      "Request 142 of 622: norman wells | Completed\n",
      "Request 143 of 622: tuktoyaktuk | Completed\n",
      "Request 144 of 622: kumbo | Completed\n",
      "Request 145 of 622: griffith | Completed\n",
      "Request 146 of 622: bougouni | Completed\n",
      "Request 147 of 622: lompoc | Completed\n",
      "Request 148 of 622: carnarvon | Completed\n",
      "Request 149 of 622: dakoro | Completed\n",
      "Request 150 of 622: luanshya | Completed\n",
      "Request 151 of 622: hegang | Completed\n",
      "Request 152 of 622: dongargaon | Completed\n",
      "Request 153 of 622: saint-francois | Completed\n",
      "Request 154 of 622: ossora | Completed\n",
      "Request 155 of 622: rorvik | Completed\n",
      "Request 156 of 622: sentyabrskiy | Completed\n",
      "Request 157 of 622: attawapiskat | Completed\n",
      "Request 158 of 622: cherskiy | Completed\n",
      "Request 159 of 622: talnakh | Completed\n",
      "Request 160 of 622: fortuna | Completed\n",
      "Request 161 of 622: ankola | Completed\n",
      "Request 162 of 622: buribay | Completed\n",
      "Request 163 of 622: perafita | Completed\n",
      "Request 164 of 622: arraial do cabo | Completed\n",
      "Request 165 of 622: troitsko-pechorsk | Completed\n",
      "Request 166 of 622: hambantota | Completed\n",
      "Request 167 of 622: kontagora | Completed\n",
      "Request 168 of 622: katangli | Completed\n",
      "Request 169 of 622: curuguaty | Completed\n",
      "Request 170 of 622: kailua | Completed\n",
      "Request 171 of 622: antofagasta | Completed\n",
      "Request 172 of 622: lewiston | Completed\n",
      "Request 173 of 622: sitka | Completed\n",
      "Request 174 of 622: nara | Completed\n",
      "Request 175 of 622: pericos | Completed\n",
      "Request 176 of 622: kodiak | Completed\n",
      "Request 177 of 622: asayita | Completed\n",
      "Request 178 of 622: hasaki | Completed\n",
      "Request 179 of 622: samusu | Completed\n",
      "Request 180 of 622: senanga | Completed\n",
      "Request 181 of 622: banagher | Completed\n",
      "Request 182 of 622: nizhneyansk | Completed\n",
      "Request 183 of 622: muroto | Completed\n",
      "Request 184 of 622: belushya guba | Completed\n",
      "Request 185 of 622: chardara | Completed\n",
      "Request 186 of 622: archidona | Completed\n",
      "Request 187 of 622: baykit | Completed\n",
      "Request 188 of 622: port blair | Completed\n",
      "Request 189 of 622: hammonton | Completed\n",
      "Request 190 of 622: quatre cocos | Completed\n",
      "Request 191 of 622: barsovo | Completed\n",
      "Request 192 of 622: gazli | Completed\n",
      "Request 193 of 622: maragogi | Completed\n",
      "Request 194 of 622: jalu | Completed\n",
      "Request 195 of 622: tocopilla | Completed\n",
      "Request 196 of 622: grand-lahou | Completed\n",
      "Request 197 of 622: plackovci | Completed\n",
      "Request 198 of 622: valdivia | Completed\n",
      "Request 199 of 622: koszeg | Completed\n",
      "Request 200 of 622: jiexiu | Completed\n",
      "Request 201 of 622: flinders | Completed\n"
     ]
    },
    {
     "name": "stdout",
     "output_type": "stream",
     "text": [
      "Request 202 of 622: bud | Completed\n",
      "Request 203 of 622: katsuura | Completed\n",
      "Request 204 of 622: camacupa | Completed\n",
      "Request 205 of 622: sao filipe | Completed\n",
      "Request 206 of 622: vao | Completed\n",
      "Request 207 of 622: hobyo | Completed\n",
      "Request 208 of 622: rovaniemi | Completed\n",
      "Request 209 of 622: hualmay | Completed\n",
      "Request 210 of 622: porto murtinho | Completed\n",
      "Request 211 of 622: amapa | Completed\n",
      "Request 212 of 622: bengkulu | Completed\n",
      "Request 213 of 622: ballina | Completed\n",
      "Request 214 of 622: birin | Completed\n",
      "Request 215 of 622: honningsvag | Completed\n",
      "Request 216 of 622: olafsvik | Completed\n",
      "Request 217 of 622: ginda | Completed\n",
      "Request 218 of 622: lorengau | Completed\n",
      "Request 219 of 622: naryan-mar | Completed\n",
      "Request 220 of 622: bojonegoro | Completed\n",
      "Request 221 of 622: santa maria | Completed\n",
      "Request 222 of 622: cockburn harbour | Completed\n",
      "Request 223 of 622: tumannyy | Completed\n",
      "Request 224 of 622: puerto escondido | Completed\n",
      "Request 225 of 622: guerrero negro | Completed\n",
      "Request 226 of 622: tura | Completed\n",
      "Request 227 of 622: caiaponia | Completed\n",
      "Request 228 of 622: hihifo | Completed\n",
      "Request 229 of 622: abu kamal | Completed\n",
      "Request 230 of 622: yangmei | Completed\n",
      "Request 231 of 622: imphal | Completed\n",
      "Request 232 of 622: namatanai | Completed\n",
      "Request 233 of 622: bucak | Completed\n",
      "Request 234 of 622: sur | Completed\n",
      "Request 235 of 622: kahului | Completed\n",
      "Request 236 of 622: berbera | Completed\n",
      "Request 237 of 622: bartica | Completed\n",
      "Request 238 of 622: lichinga | Completed\n",
      "Request 239 of 622: markova | Completed\n",
      "Request 240 of 622: iznoski | Completed\n",
      "Request 241 of 622: klaksvik | Completed\n",
      "Request 242 of 622: provideniya | Completed\n",
      "Request 243 of 622: virginia beach | Completed\n",
      "Request 244 of 622: vardo | Completed\n",
      "Request 245 of 622: kawana waters | Completed\n",
      "Request 246 of 622: fomboni | Completed\n",
      "Request 247 of 622: kamenka | Completed\n",
      "Request 248 of 622: chiapilla | Completed\n",
      "Request 249 of 622: nome | Completed\n",
      "Request 250 of 622: grand centre | Completed\n",
      "Request 251 of 622: xingyi | Completed\n",
      "Request 252 of 622: santa fe | Completed\n",
      "Request 253 of 622: agadir | Completed\n",
      "Request 254 of 622: arlit | Completed\n",
      "Request 255 of 622: murgud | Completed\n",
      "Request 256 of 622: jamame | Completed\n",
      "Request 257 of 622: poso | Completed\n",
      "Request 258 of 622: altay | Completed\n",
      "Request 259 of 622: kruisfontein | Completed\n",
      "Request 260 of 622: hamilton | Completed\n",
      "Request 261 of 622: anadyr | Completed\n",
      "Request 262 of 622: le port | Completed\n",
      "Request 263 of 622: la rioja | Completed\n",
      "Request 264 of 622: rawa mazowiecka | Completed\n",
      "Request 265 of 622: nambour | Completed\n",
      "Request 266 of 622: la paz | Completed\n",
      "Request 267 of 622: sumbawa | Completed\n",
      "Request 268 of 622: west wendover | Completed\n",
      "Request 269 of 622: zolotinka | Completed\n",
      "Request 270 of 622: cabedelo | Completed\n",
      "Request 271 of 622: riberalta | Completed\n",
      "Request 272 of 622: grand river south east | Completed\n",
      "Request 273 of 622: cap malheureux | Completed\n",
      "Request 274 of 622: deputatskiy | Completed\n",
      "Request 275 of 622: dekar | Completed\n",
      "Request 276 of 622: bilecik | Completed\n",
      "Request 277 of 622: cockburn town | Completed\n",
      "Request 278 of 622: sri aman | Completed\n",
      "Request 279 of 622: lambarene | Completed\n",
      "Request 280 of 622: hithadhoo | Completed\n",
      "Request 281 of 622: chifeng | Completed\n",
      "Request 282 of 622: westport | Completed\n",
      "Request 283 of 622: juneau | Completed\n",
      "Request 284 of 622: isla mujeres | Completed\n",
      "Request 285 of 622: onguday | Completed\n",
      "Request 286 of 622: alihe | Completed\n",
      "Request 287 of 622: jacqueville | Completed\n",
      "Request 288 of 622: jahrom | Completed\n",
      "Request 289 of 622: sao lourenco do sul | Completed\n",
      "Request 290 of 622: nabire | Completed\n",
      "Request 291 of 622: erhlin | Completed\n",
      "Request 292 of 622: san patricio | Completed\n",
      "Request 293 of 622: pisco | Completed\n",
      "Request 294 of 622: wilmington | Completed\n",
      "Request 295 of 622: chaa-khol | Completed\n",
      "Request 296 of 622: urumqi | Completed\n",
      "Request 297 of 622: guangyuan | Completed\n",
      "Request 298 of 622: jala | Completed\n",
      "Request 299 of 622: akyab | Completed\n",
      "Request 300 of 622: labuhan | Completed\n",
      "Request 301 of 622: eureka | Completed\n",
      "Request 302 of 622: jiayuguan | Completed\n",
      "Request 303 of 622: coron | Completed\n",
      "Request 304 of 622: la mira | Completed\n",
      "Request 305 of 622: mys shmidta | Completed\n",
      "Request 306 of 622: goma | Completed\n",
      "Request 307 of 622: kampong chhnang | Completed\n",
      "Request 308 of 622: baghdad | Completed\n",
      "Request 309 of 622: luderitz | Completed\n",
      "Request 310 of 622: san cristobal | Completed\n",
      "Request 311 of 622: mahanoro | Completed\n",
      "Request 312 of 622: tasiilaq | Completed\n",
      "Request 313 of 622: novhorodka | Completed\n",
      "Request 314 of 622: olinda | Completed\n",
      "Request 315 of 622: toliary | Completed\n",
      "Request 316 of 622: ngama | Completed\n",
      "Request 317 of 622: lavrentiya | Completed\n",
      "Request 318 of 622: tiksi | Completed\n",
      "Request 319 of 622: boyolangu | Completed\n",
      "Request 320 of 622: longyearbyen | Completed\n",
      "Request 321 of 622: talaya | Completed\n",
      "Request 322 of 622: bajil | Completed\n",
      "Request 323 of 622: nizhniy ingash | Completed\n",
      "Request 324 of 622: innisfail | Completed\n",
      "Request 325 of 622: marratxi | Completed\n",
      "Request 326 of 622: isangel | Completed\n",
      "Request 327 of 622: norsup | Completed\n",
      "Request 328 of 622: mehamn | Completed\n",
      "Request 329 of 622: thohoyandou | Completed\n",
      "Request 330 of 622: tasbuget | Completed\n",
      "Request 331 of 622: gat | Completed\n",
      "Request 332 of 622: bom jesus | Completed\n",
      "Request 333 of 622: sturgeon falls | Completed\n",
      "Request 334 of 622: suslovo | Completed\n",
      "Request 335 of 622: kihei | Completed\n",
      "Request 336 of 622: saint george | Completed\n",
      "Request 337 of 622: severo-kurilsk | Completed\n",
      "Request 338 of 622: bakaly | Completed\n",
      "Request 339 of 622: manokwari | Completed\n",
      "Request 340 of 622: cherepet | Completed\n",
      "Request 341 of 622: polis | Completed\n",
      "Request 342 of 622: newry | Completed\n",
      "Request 343 of 622: thompson | Completed\n",
      "Request 344 of 622: micheweni | Completed\n",
      "Request 345 of 622: mikuni | Completed\n",
      "Request 346 of 622: kavieng | Completed\n",
      "Request 347 of 622: lazaro cardenas | Completed\n",
      "Request 348 of 622: buta | Completed\n",
      "Request 349 of 622: clyde river | Completed\n",
      "Request 350 of 622: marawi | Completed\n",
      "Request 351 of 622: saleaula | Completed\n",
      "Request 352 of 622: huangmei | Completed\n",
      "Request 353 of 622: hami | Completed\n",
      "Request 354 of 622: ahuimanu | Completed\n",
      "Request 355 of 622: nioro | Completed\n",
      "Request 356 of 622: amboasary | Completed\n",
      "Request 357 of 622: cascais | Completed\n",
      "Request 358 of 622: sembabule | Completed\n",
      "Request 359 of 622: ust-ilimsk | Completed\n",
      "Request 360 of 622: jiazi | Completed\n",
      "Request 361 of 622: mar del plata | Completed\n",
      "Request 362 of 622: andapa | Completed\n",
      "Request 363 of 622: chihuahua | Completed\n",
      "Request 364 of 622: bien hoa | Completed\n",
      "Request 365 of 622: taoudenni | Completed\n",
      "Request 366 of 622: noshiro | Completed\n",
      "Request 367 of 622: camocim | Completed\n",
      "Request 368 of 622: mill valley | Completed\n",
      "Request 369 of 622: santa ines | Completed\n",
      "Request 370 of 622: igarka | Completed\n",
      "Request 371 of 622: camalu | Completed\n",
      "Request 372 of 622: ukiah | Completed\n",
      "Request 373 of 622: manjacaze | Completed\n",
      "Request 374 of 622: batemans bay | Completed\n",
      "Request 375 of 622: alekseyevsk | Completed\n",
      "Request 376 of 622: wangaratta | Completed\n",
      "Request 377 of 622: galgani | Completed\n",
      "Request 378 of 622: iqaluit | Completed\n",
      "Request 379 of 622: palmer | Completed\n",
      "Request 380 of 622: ponta do sol | Completed\n",
      "Request 381 of 622: bosaso | Completed\n",
      "Request 382 of 622: port-gentil | Completed\n",
      "Request 383 of 622: tual | Completed\n",
      "Request 384 of 622: winnipeg | Completed\n",
      "Request 385 of 622: chernyshkovskiy | Completed\n",
      "Request 386 of 622: vallenar | Completed\n",
      "Request 387 of 622: high level | Completed\n",
      "Request 388 of 622: jutai | Completed\n",
      "Request 389 of 622: campo de criptana | Completed\n",
      "Request 390 of 622: vila velha | Completed\n",
      "Request 391 of 622: warqla | Completed\n",
      "Request 392 of 622: quepos | Completed\n",
      "Request 393 of 622: lasa | Completed\n",
      "Request 394 of 622: belaya gora | Completed\n",
      "Request 395 of 622: safford | Completed\n",
      "Request 396 of 622: barcelos | Completed\n",
      "Request 397 of 622: oltedal | Completed\n",
      "Request 398 of 622: ahipara | Completed\n",
      "Request 399 of 622: wuzhou | Completed\n",
      "Request 400 of 622: bac lieu | Completed\n",
      "Request 401 of 622: madison | Completed\n"
     ]
    },
    {
     "name": "stdout",
     "output_type": "stream",
     "text": [
      "Request 402 of 622: broome | Completed\n",
      "Request 403 of 622: itaituba | Completed\n",
      "Request 404 of 622: tonantins | Completed\n",
      "Request 405 of 622: sungaipenuh | Completed\n",
      "Request 406 of 622: liminangcong | Completed\n",
      "Request 407 of 622: dinajpur | Completed\n",
      "Request 408 of 622: panormos | Completed\n",
      "Request 409 of 622: maxixe | Completed\n",
      "Request 410 of 622: miles city | Completed\n",
      "Request 411 of 622: haimen | Completed\n",
      "Request 412 of 622: bilibino | Completed\n",
      "Request 413 of 622: chunskiy | Completed\n",
      "Request 414 of 622: dicabisagan | Completed\n",
      "Request 415 of 622: tahoua | Completed\n",
      "Request 416 of 622: codrington | Completed\n",
      "Request 417 of 622: ailigandi | Completed\n",
      "Request 418 of 622: balimo | Completed\n",
      "Request 419 of 622: aksarka | Completed\n",
      "Request 420 of 622: nouadhibou | Completed\n",
      "Request 421 of 622: half moon bay | Completed\n",
      "Request 422 of 622: wattegama | Completed\n",
      "Request 423 of 622: alghero | Completed\n",
      "Request 424 of 622: belmonte | Completed\n",
      "Request 425 of 622: worthington | Completed\n",
      "Request 426 of 622: pinawa | Completed\n",
      "Request 427 of 622: alofi | Completed\n",
      "Request 428 of 622: maputo | Completed\n",
      "Request 429 of 622: amderma | Completed\n",
      "Request 430 of 622: the valley | Completed\n",
      "Request 431 of 622: tsentralnyy | Completed\n",
      "Request 432 of 622: neustrelitz | Completed\n",
      "Request 433 of 622: kiunga | Completed\n",
      "Request 434 of 622: jumla | Completed\n",
      "Request 435 of 622: jamsa | Completed\n",
      "Request 436 of 622: narsaq | Completed\n",
      "Request 437 of 622: marzuq | Completed\n",
      "Request 438 of 622: sao joao da barra | Completed\n",
      "Request 439 of 622: lazo | Completed\n",
      "Request 440 of 622: bur gabo | Completed\n",
      "Request 441 of 622: teya | Completed\n",
      "Request 442 of 622: velizh | Completed\n",
      "Request 443 of 622: sao jose da coroa grande | Completed\n",
      "Request 444 of 622: kotelnikovo | Completed\n",
      "Request 445 of 622: lagoa | Completed\n",
      "Request 446 of 622: madang | Completed\n",
      "Request 447 of 622: bulolo | Completed\n",
      "Request 448 of 622: otjiwarongo | Completed\n",
      "Request 449 of 622: do gonbadan | Completed\n",
      "Request 450 of 622: burnie | Completed\n",
      "Request 451 of 622: porto novo | Completed\n",
      "Request 452 of 622: yenagoa | Completed\n",
      "Request 453 of 622: houston | Completed\n",
      "Request 454 of 622: esmeraldas | Completed\n",
      "Request 455 of 622: nova olinda do norte | Completed\n",
      "Request 456 of 622: athens | Completed\n",
      "Request 457 of 622: alugan | Completed\n",
      "Request 458 of 622: athabasca | Completed\n",
      "Request 459 of 622: kaeo | Completed\n",
      "Request 460 of 622: udachnyy | Completed\n",
      "Request 461 of 622: abha | Completed\n",
      "Request 462 of 622: saint anthony | Completed\n",
      "Request 463 of 622: vila | Completed\n",
      "Request 464 of 622: cabo rojo | Completed\n",
      "Request 465 of 622: sao felix do xingu | Completed\n",
      "Request 466 of 622: cayenne | Completed\n",
      "Request 467 of 622: omboue | Completed\n",
      "Request 468 of 622: tunduru | Completed\n",
      "Request 469 of 622: mamallapuram | Completed\n",
      "Request 470 of 622: tessalit | Completed\n",
      "Request 471 of 622: kyren | Completed\n",
      "Request 472 of 622: itoman | Completed\n",
      "Request 473 of 622: malwan | Completed\n",
      "Request 474 of 622: sukagawa | Completed\n",
      "Request 475 of 622: alice springs | Completed\n",
      "Request 476 of 622: patrocinio | Completed\n",
      "Request 477 of 622: longview | Completed\n",
      "Request 478 of 622: presidencia roque saenz pena | Completed\n",
      "Request 479 of 622: nchelenge | Completed\n",
      "Request 480 of 622: klyuchi | Completed\n",
      "Request 481 of 622: yeppoon | Completed\n",
      "Request 482 of 622: sahrak | Completed\n",
      "Request 483 of 622: beringovskiy | Completed\n",
      "Request 484 of 622: pleszew | Completed\n",
      "Request 485 of 622: portland | Completed\n",
      "Request 486 of 622: fairbanks | Completed\n",
      "Request 487 of 622: baglan | Completed\n",
      "Request 488 of 622: nova russas | Completed\n",
      "Request 489 of 622: gorbatov | Completed\n",
      "Request 490 of 622: mala vyska | Completed\n",
      "Request 491 of 622: yumen | Completed\n",
      "Request 492 of 622: usolye-sibirskoye | Completed\n",
      "Request 493 of 622: viedma | Completed\n",
      "Request 494 of 622: mareeba | Completed\n",
      "Request 495 of 622: ust-kuyga | Completed\n",
      "Request 496 of 622: abeche | Completed\n",
      "Request 497 of 622: ravar | Completed\n",
      "Request 498 of 622: asau | Completed\n",
      "Request 499 of 622: emerald | Completed\n",
      "Request 500 of 622: lufilufi | Completed\n",
      "Request 501 of 622: roma | Completed\n",
      "Request 502 of 622: richards bay | Completed\n",
      "Request 503 of 622: sahuaripa | Completed\n",
      "Request 504 of 622: cabo san lucas | Completed\n",
      "Request 505 of 622: gazanjyk | Completed\n",
      "Request 506 of 622: tarudant | Completed\n",
      "Request 507 of 622: merritt | Completed\n",
      "Request 508 of 622: saint-joseph | Completed\n",
      "Request 509 of 622: adrar | Completed\n",
      "Request 510 of 622: tautira | Completed\n",
      "Request 511 of 622: progreso | Completed\n",
      "Request 512 of 622: santa cruz | Completed\n",
      "Request 513 of 622: chulym | Completed\n",
      "Request 514 of 622: hovd | Completed\n",
      "Request 515 of 622: korla | Completed\n",
      "Request 516 of 622: cuautepec | Completed\n",
      "Request 517 of 622: ewo | Completed\n",
      "Request 518 of 622: mahon | Completed\n",
      "Request 519 of 622: harper | Completed\n",
      "Request 520 of 622: bandarbeyla | Completed\n",
      "Request 521 of 622: karasjok | Completed\n",
      "Request 522 of 622: hadsund | Completed\n",
      "Request 523 of 622: ucluelet | Completed\n",
      "Request 524 of 622: salinopolis | Completed\n",
      "Request 525 of 622: valreas | Completed\n",
      "Request 526 of 622: hailar | Completed\n",
      "Request 527 of 622: meulaboh | Completed\n",
      "Request 528 of 622: polewali | Completed\n",
      "Request 529 of 622: victor harbor | Completed\n",
      "Request 530 of 622: malya | Completed\n",
      "Request 531 of 622: gbarnga | Completed\n",
      "Request 532 of 622: chiredzi | Completed\n",
      "Request 533 of 622: oranjemund | Completed\n",
      "Request 534 of 622: constitucion | Completed\n",
      "Request 535 of 622: tuatapere | Completed\n",
      "Request 536 of 622: aki | Completed\n",
      "Request 537 of 622: kraskino | Completed\n",
      "Request 538 of 622: cubuk | Completed\n",
      "Request 539 of 622: ponta delgada | Completed\n",
      "Request 540 of 622: havelock | Completed\n",
      "Request 541 of 622: oktyabrskiy | Completed\n",
      "Request 542 of 622: ransang | Completed\n",
      "Request 543 of 622: coquimbo | Completed\n",
      "Request 544 of 622: la plata | Completed\n",
      "Request 545 of 622: phalombe | Completed\n",
      "Request 546 of 622: touros | Completed\n",
      "Request 547 of 622: sogdiondon | Completed\n",
      "Request 548 of 622: uyemskiy | Completed\n",
      "Request 549 of 622: maluso | Completed\n",
      "Request 550 of 622: gilbues | Completed\n",
      "Request 551 of 622: boguchany | Completed\n",
      "Request 552 of 622: khor | Completed\n",
      "Request 553 of 622: kichera | Completed\n",
      "Request 554 of 622: ugoofaaru | Completed\n",
      "Request 555 of 622: mamontovo | Completed\n",
      "Request 556 of 622: kieta | Completed\n",
      "Request 557 of 622: svetlyy | Completed\n",
      "Request 558 of 622: mount gambier | Completed\n",
      "Request 559 of 622: lamont | Completed\n",
      "Request 560 of 622: elban | Completed\n",
      "Request 561 of 622: palabuhanratu | Completed\n",
      "Request 562 of 622: zyryanovsk | Completed\n",
      "Request 563 of 622: vestmannaeyjar | Completed\n",
      "Request 564 of 622: saquena | Completed\n",
      "Request 565 of 622: hauterive | Completed\n",
      "Request 566 of 622: grand gaube | Completed\n",
      "Request 567 of 622: vila franca do campo | Completed\n",
      "Request 568 of 622: zemio | Completed\n",
      "Request 569 of 622: sihlea | Completed\n",
      "Request 570 of 622: bang saphan | Completed\n",
      "Request 571 of 622: dunedin | Completed\n",
      "Request 572 of 622: kushmurun | Completed\n",
      "Request 573 of 622: mayskiy | Completed\n",
      "Request 574 of 622: dogondoutchi | Completed\n",
      "Request 575 of 622: backa palanka | Completed\n",
      "Request 576 of 622: komsomolskiy | Completed\n",
      "Request 577 of 622: lerwick | Completed\n",
      "Request 578 of 622: acari | Completed\n",
      "Request 579 of 622: kolo | Completed\n",
      "Request 580 of 622: resistencia | Completed\n",
      "Request 581 of 622: umm jarr | Completed\n",
      "Request 582 of 622: bauta | Completed\n",
      "Request 583 of 622: berlevag | Completed\n",
      "Request 584 of 622: bellinzona | Completed\n",
      "Request 585 of 622: santa adelia | Completed\n",
      "Request 586 of 622: makakilo city | Completed\n",
      "Request 587 of 622: port hardy | Completed\n",
      "Request 588 of 622: nantucket | Completed\n",
      "Request 589 of 622: puerto cabezas | Completed\n",
      "Request 590 of 622: maceio | Completed\n",
      "Request 591 of 622: galiwinku | Completed\n",
      "Request 592 of 622: sento se | Completed\n",
      "Request 593 of 622: vicksburg | Completed\n",
      "Request 594 of 622: tirumullaivasal | Completed\n",
      "Request 595 of 622: sakakah | Completed\n",
      "Request 596 of 622: najran | Completed\n",
      "Request 597 of 622: landskrona | Completed\n",
      "Request 598 of 622: trairi | Completed\n",
      "Request 599 of 622: enshi | Completed\n",
      "Request 600 of 622: nenjiang | Completed\n"
     ]
    },
    {
     "name": "stdout",
     "output_type": "stream",
     "text": [
      "Request 601 of 622: gurgan | Completed\n",
      "Request 602 of 622: bria | Completed\n",
      "Request 603 of 622: kushima | Completed\n",
      "Request 604 of 622: bani | Completed\n",
      "Request 605 of 622: yeniseysk | Completed\n",
      "Request 606 of 622: herat | Completed\n",
      "Request 607 of 622: rocha | Completed\n",
      "Request 608 of 622: dymer | Completed\n",
      "Request 609 of 622: poya | Completed\n",
      "Request 610 of 622: tidore | Completed\n",
      "Request 611 of 622: skalistyy | Completed\n",
      "Request 612 of 622: suruc | Completed\n",
      "Request 613 of 622: khandbari | Completed\n",
      "Request 614 of 622: kidal | Completed\n",
      "Request 615 of 622: itigi | Completed\n",
      "Request 616 of 622: zhumadian | Completed\n",
      "Request 617 of 622: fort nelson | Completed\n",
      "Request 618 of 622: caranavi | Completed\n",
      "Request 619 of 622: nguiu | Completed\n",
      "Request 620 of 622: goderich | Completed\n",
      "Request 621 of 622: almaznyy | Completed\n",
      "Request 622 of 622: tarko-sale | Completed\n",
      "\n",
      "Requests completed.\n",
      "\n"
     ]
    }
   ],
   "source": [
    "# set weather api key\n",
    "weather_api_key = \"859160b27a66fa30ac536a960cbbf7cd\"\n",
    "\n",
    "# set output file url\n",
    "output_json_url = \"C:/Users/palan/NW-Data-Science/Python-Api-Challenge/output_data/output.json\"\n",
    "\n",
    "# open csv file to write outputs into\n",
    "with open(output_json_url, \"w\") as json_file:\n",
    "    \n",
    "    # initializing print log counter\n",
    "    i = 0\n",
    "    \n",
    "    json_list = []\n",
    "    \n",
    "    # iterate through weather api call outputs\n",
    "    for city in cities:\n",
    "\n",
    "        # populate weather api url & fetch request\n",
    "        weather_api_url = f\"https://api.openweathermap.org/data/2.5/weather?q={city}&appid={weather_api_key}\"\n",
    "        weather_output = requests.get(weather_api_url).json()\n",
    "        json_list.append(weather_output)\n",
    "        \n",
    "        # increment print log counter\n",
    "        i = i + 1\n",
    "        \n",
    "        #Print request output log\n",
    "        print(f'Request {i} of {len(cities)}: {city} | Completed')\n",
    "\n",
    "    json_object = json.dumps(json_list, indent = 4)\n",
    "    json_file.write(json_object)\n",
    "\n",
    "json_file.close()\n",
    "        \n",
    "print('\\nRequests completed.\\n')\n"
   ]
  },
  {
   "cell_type": "markdown",
   "metadata": {},
   "source": [
    "### Convert Raw Data to DataFrame\n",
    "* Export the city data into a .csv.\n",
    "* Display the DataFrame"
   ]
  },
  {
   "cell_type": "code",
   "execution_count": 7,
   "metadata": {},
   "outputs": [
    {
     "name": "stdout",
     "output_type": "stream",
     "text": [
      "\n",
      "Number of Cities Skipped: 50\n",
      "Output data table of cities & weather conditions parsed from JSON file.\n"
     ]
    },
    {
     "data": {
      "text/html": [
       "<div>\n",
       "<style scoped>\n",
       "    .dataframe tbody tr th:only-of-type {\n",
       "        vertical-align: middle;\n",
       "    }\n",
       "\n",
       "    .dataframe tbody tr th {\n",
       "        vertical-align: top;\n",
       "    }\n",
       "\n",
       "    .dataframe thead th {\n",
       "        text-align: right;\n",
       "    }\n",
       "</style>\n",
       "<table border=\"1\" class=\"dataframe\">\n",
       "  <thead>\n",
       "    <tr style=\"text-align: right;\">\n",
       "      <th></th>\n",
       "      <th>City Name</th>\n",
       "      <th>Country</th>\n",
       "      <th>Latitude</th>\n",
       "      <th>Longitude</th>\n",
       "      <th>Max Temperature [C]</th>\n",
       "      <th>Humidity</th>\n",
       "      <th>Cloudiness</th>\n",
       "      <th>Wind Speed</th>\n",
       "    </tr>\n",
       "  </thead>\n",
       "  <tbody>\n",
       "    <tr>\n",
       "      <th>0</th>\n",
       "      <td>Teknāf</td>\n",
       "      <td>BD</td>\n",
       "      <td>20.86</td>\n",
       "      <td>92.31</td>\n",
       "      <td>29.06</td>\n",
       "      <td>60</td>\n",
       "      <td>0</td>\n",
       "      <td>2.371156</td>\n",
       "    </tr>\n",
       "    <tr>\n",
       "      <th>1</th>\n",
       "      <td>Upernavik</td>\n",
       "      <td>GL</td>\n",
       "      <td>72.79</td>\n",
       "      <td>-56.15</td>\n",
       "      <td>-7.15</td>\n",
       "      <td>89</td>\n",
       "      <td>100</td>\n",
       "      <td>16.240184</td>\n",
       "    </tr>\n",
       "    <tr>\n",
       "      <th>2</th>\n",
       "      <td>Asha</td>\n",
       "      <td>RU</td>\n",
       "      <td>55.00</td>\n",
       "      <td>57.27</td>\n",
       "      <td>-12.45</td>\n",
       "      <td>92</td>\n",
       "      <td>48</td>\n",
       "      <td>1.409272</td>\n",
       "    </tr>\n",
       "    <tr>\n",
       "      <th>3</th>\n",
       "      <td>Ambon City</td>\n",
       "      <td>ID</td>\n",
       "      <td>-3.70</td>\n",
       "      <td>128.18</td>\n",
       "      <td>33.15</td>\n",
       "      <td>63</td>\n",
       "      <td>40</td>\n",
       "      <td>8.052984</td>\n",
       "    </tr>\n",
       "    <tr>\n",
       "      <th>4</th>\n",
       "      <td>Rawson</td>\n",
       "      <td>AR</td>\n",
       "      <td>-43.30</td>\n",
       "      <td>-65.10</td>\n",
       "      <td>18.14</td>\n",
       "      <td>37</td>\n",
       "      <td>58</td>\n",
       "      <td>8.522741</td>\n",
       "    </tr>\n",
       "  </tbody>\n",
       "</table>\n",
       "</div>"
      ],
      "text/plain": [
       "    City Name Country  Latitude  Longitude  Max Temperature [C]  Humidity  \\\n",
       "0      Teknāf      BD     20.86      92.31                29.06        60   \n",
       "1   Upernavik      GL     72.79     -56.15                -7.15        89   \n",
       "2        Asha      RU     55.00      57.27               -12.45        92   \n",
       "3  Ambon City      ID     -3.70     128.18                33.15        63   \n",
       "4      Rawson      AR    -43.30     -65.10                18.14        37   \n",
       "\n",
       "   Cloudiness  Wind Speed  \n",
       "0           0    2.371156  \n",
       "1         100   16.240184  \n",
       "2          48    1.409272  \n",
       "3          40    8.052984  \n",
       "4          58    8.522741  "
      ]
     },
     "execution_count": 7,
     "metadata": {},
     "output_type": "execute_result"
    }
   ],
   "source": [
    "with open(\"C:/Users/palan/NW-Data-Science/Python-Api-Challenge/output_data/output.json\", \"r\") as read_file:\n",
    "    data = json.load(read_file)\n",
    "\n",
    "w_df = pd.DataFrame.from_dict(data, orient='columns')\n",
    "\n",
    "# initializing list variants\n",
    "city_name = []\n",
    "country = []\n",
    "lat = []\n",
    "lon = []\n",
    "temp = []\n",
    "humidity = []\n",
    "cloud = []\n",
    "wind = []\n",
    "\n",
    "# initialize counter for tallying errors, when cities from JSON file are skipped\n",
    "exception_count = 0\n",
    "\n",
    "for city in range(cities_count): \n",
    "    \n",
    "    #check for errors in any city inputs before populating appending to list values\n",
    "    try:\n",
    "\n",
    "        # CHECK FOR ERRORS IN ANY CITIES\n",
    "    \n",
    "        # get city name\n",
    "        get_city_name = w_df['name'][city]    \n",
    "\n",
    "        # get country\n",
    "        get_country = w_df['sys'][city]['country']   \n",
    "        \n",
    "        # get latitude\n",
    "        get_lat = w_df['coord'][city]['lat']\n",
    "\n",
    "        # get longitude\n",
    "        get_lon = w_df['coord'][city]['lon']\n",
    "\n",
    "        # get temperature\n",
    "        get_temp = w_df['main'][city]['temp_max']\n",
    "\n",
    "        # get humidity\n",
    "        get_humidity = w_df['main'][city]['humidity']\n",
    "\n",
    "        # get cloudiness\n",
    "        get_cloud = w_df['clouds'][city]['all']\n",
    "\n",
    "        # get wind speed\n",
    "        get_wind = w_df['wind'][city]['speed']\n",
    "\n",
    "        \n",
    "        # IF NO ERRORS, THEN APPEND TO LIST\n",
    "        \n",
    "        # get city name\n",
    "        city_name.append(get_city_name)  \n",
    "\n",
    "        # get country\n",
    "        country.append(get_country) \n",
    "        \n",
    "        # get latitude\n",
    "        lat.append(get_lat)\n",
    "\n",
    "        # get longitude\n",
    "        lon.append(get_lon)\n",
    "\n",
    "        # get temperature, adjust from Kelvin to celcius\n",
    "        temp.append(get_temp - 273)\n",
    "\n",
    "        # get humidity\n",
    "        humidity.append(get_humidity)\n",
    "\n",
    "        # get cloudiness\n",
    "        cloud.append(get_cloud)\n",
    "\n",
    "        # get wind speed, convert from m/s to mph\n",
    "        wind.append(get_wind * 2.23694)\n",
    "        \n",
    "    # if error, skip to next city\n",
    "    except:    \n",
    "    \n",
    "        exception_count = exception_count + 1\n",
    "        #continue to next city in loop\n",
    "        \n",
    "print(f'\\nNumber of Cities Skipped: {exception_count}')\n",
    "\n",
    "print('Output data table of cities & weather conditions parsed from JSON file.')\n",
    "\n",
    "# merge weather data lists into a single dataframe\n",
    "weather_df = pd.DataFrame(\n",
    "    {'City Name': city_name,\n",
    "     'Country': country,\n",
    "    'Latitude': lat,\n",
    "     'Longitude': lon,\n",
    "     'Max Temperature [C]': temp,\n",
    "     'Humidity': humidity,\n",
    "     'Cloudiness': cloud,\n",
    "     'Wind Speed': wind\n",
    "    })\n",
    "\n",
    "# print mereged data frame\n",
    "weather_df.head(n=5)\n"
   ]
  },
  {
   "cell_type": "code",
   "execution_count": 8,
   "metadata": {},
   "outputs": [
    {
     "name": "stdout",
     "output_type": "stream",
     "text": [
      "\n",
      "CSV output file successfully created: output_cities.csv\n",
      "\n"
     ]
    }
   ],
   "source": [
    "# write merged data frame to CSV file\n",
    "csv_file_name = 'output_cities'\n",
    "weather_df.to_csv(f'C:/Users/palan/NW-Data-Science/Python-Api-Challenge/output_data/{csv_file_name}.csv', index=False)\n",
    "\n",
    "print(f'\\nCSV output file successfully created: {csv_file_name}.csv\\n')\n"
   ]
  },
  {
   "cell_type": "markdown",
   "metadata": {},
   "source": [
    "## Inspect the data and remove the cities where the humidity > 100%.\n",
    "----\n",
    "Skip this step if there are no cities that have humidity > 100%. "
   ]
  },
  {
   "cell_type": "code",
   "execution_count": 9,
   "metadata": {},
   "outputs": [
    {
     "name": "stdout",
     "output_type": "stream",
     "text": [
      "\n",
      "Number of cities in cleaned (humidity greater than 100% removed) data frame: 572\n",
      "\n"
     ]
    }
   ],
   "source": [
    "# Retrieve data from CSV output file\n",
    "cities_path = \"C:/Users/palan/NW-Data-Science/Python-Api-Challenge/output_data/output_cities.csv\"\n",
    "cities_df = pd.read_csv(cities_path)\n",
    "\n",
    "# remove any cities (i.e., rows) with humidity > 100\n",
    "drop_index = cities_df[cities_df['Humidity'] > 100].index\n",
    "cities_df.drop(drop_index, inplace = True)\n",
    "\n",
    "# confirm number of cities in list\n",
    "print(f'\\nNumber of cities in cleaned (humidity greater than 100% removed) data frame: {cities_df.shape[0]}\\n')\n"
   ]
  },
  {
   "cell_type": "markdown",
   "metadata": {},
   "source": [
    "## Plotting the Data\n",
    "* Use proper labeling of the plots using plot titles (including date of analysis) and axes labels.\n",
    "* Save the plotted figures as .pngs."
   ]
  },
  {
   "cell_type": "code",
   "execution_count": 10,
   "metadata": {},
   "outputs": [
    {
     "name": "stdout",
     "output_type": "stream",
     "text": [
      "\n",
      "Cities data frame with hemisphere column added.\n"
     ]
    },
    {
     "data": {
      "text/html": [
       "<div>\n",
       "<style scoped>\n",
       "    .dataframe tbody tr th:only-of-type {\n",
       "        vertical-align: middle;\n",
       "    }\n",
       "\n",
       "    .dataframe tbody tr th {\n",
       "        vertical-align: top;\n",
       "    }\n",
       "\n",
       "    .dataframe thead th {\n",
       "        text-align: right;\n",
       "    }\n",
       "</style>\n",
       "<table border=\"1\" class=\"dataframe\">\n",
       "  <thead>\n",
       "    <tr style=\"text-align: right;\">\n",
       "      <th></th>\n",
       "      <th>City Name</th>\n",
       "      <th>Country</th>\n",
       "      <th>Latitude</th>\n",
       "      <th>Longitude</th>\n",
       "      <th>Max Temperature [C]</th>\n",
       "      <th>Humidity</th>\n",
       "      <th>Cloudiness</th>\n",
       "      <th>Wind Speed</th>\n",
       "      <th>Abs Latitude</th>\n",
       "      <th>Hemisphere</th>\n",
       "    </tr>\n",
       "  </thead>\n",
       "  <tbody>\n",
       "    <tr>\n",
       "      <th>0</th>\n",
       "      <td>Teknāf</td>\n",
       "      <td>BD</td>\n",
       "      <td>20.86</td>\n",
       "      <td>92.31</td>\n",
       "      <td>29.06</td>\n",
       "      <td>60</td>\n",
       "      <td>0</td>\n",
       "      <td>2.371156</td>\n",
       "      <td>20.86</td>\n",
       "      <td>Northern</td>\n",
       "    </tr>\n",
       "    <tr>\n",
       "      <th>1</th>\n",
       "      <td>Upernavik</td>\n",
       "      <td>GL</td>\n",
       "      <td>72.79</td>\n",
       "      <td>-56.15</td>\n",
       "      <td>-7.15</td>\n",
       "      <td>89</td>\n",
       "      <td>100</td>\n",
       "      <td>16.240184</td>\n",
       "      <td>72.79</td>\n",
       "      <td>Northern</td>\n",
       "    </tr>\n",
       "    <tr>\n",
       "      <th>2</th>\n",
       "      <td>Asha</td>\n",
       "      <td>RU</td>\n",
       "      <td>55.00</td>\n",
       "      <td>57.27</td>\n",
       "      <td>-12.45</td>\n",
       "      <td>92</td>\n",
       "      <td>48</td>\n",
       "      <td>1.409272</td>\n",
       "      <td>55.00</td>\n",
       "      <td>Northern</td>\n",
       "    </tr>\n",
       "    <tr>\n",
       "      <th>3</th>\n",
       "      <td>Ambon City</td>\n",
       "      <td>ID</td>\n",
       "      <td>-3.70</td>\n",
       "      <td>128.18</td>\n",
       "      <td>33.15</td>\n",
       "      <td>63</td>\n",
       "      <td>40</td>\n",
       "      <td>8.052984</td>\n",
       "      <td>3.70</td>\n",
       "      <td>Southern</td>\n",
       "    </tr>\n",
       "    <tr>\n",
       "      <th>4</th>\n",
       "      <td>Rawson</td>\n",
       "      <td>AR</td>\n",
       "      <td>-43.30</td>\n",
       "      <td>-65.10</td>\n",
       "      <td>18.14</td>\n",
       "      <td>37</td>\n",
       "      <td>58</td>\n",
       "      <td>8.522741</td>\n",
       "      <td>43.30</td>\n",
       "      <td>Southern</td>\n",
       "    </tr>\n",
       "  </tbody>\n",
       "</table>\n",
       "</div>"
      ],
      "text/plain": [
       "    City Name Country  Latitude  Longitude  Max Temperature [C]  Humidity  \\\n",
       "0      Teknāf      BD     20.86      92.31                29.06        60   \n",
       "1   Upernavik      GL     72.79     -56.15                -7.15        89   \n",
       "2        Asha      RU     55.00      57.27               -12.45        92   \n",
       "3  Ambon City      ID     -3.70     128.18                33.15        63   \n",
       "4      Rawson      AR    -43.30     -65.10                18.14        37   \n",
       "\n",
       "   Cloudiness  Wind Speed  Abs Latitude Hemisphere  \n",
       "0           0    2.371156         20.86   Northern  \n",
       "1         100   16.240184         72.79   Northern  \n",
       "2          48    1.409272         55.00   Northern  \n",
       "3          40    8.052984          3.70   Southern  \n",
       "4          58    8.522741         43.30   Southern  "
      ]
     },
     "execution_count": 10,
     "metadata": {},
     "output_type": "execute_result"
    }
   ],
   "source": [
    "# creating new column in original cities dataframe with absolute value of latitude\n",
    "cities_df['Abs Latitude'] = abs(cities_df['Latitude'])\n",
    "\n",
    "# parse data into northern & souther hemispheres\n",
    "cities_df['Hemisphere'] = np.where(cities_df['Latitude']>=0, 'Northern', 'Southern')\n",
    "\n",
    "north_cities_df = cities_df[cities_df['Hemisphere'] == 'Northern']\n",
    "south_cities_df = cities_df[cities_df['Hemisphere'] == 'Southern']\n",
    "\n",
    "print('\\nCities data frame with hemisphere column added.')\n",
    "cities_df.head(n=5)\n"
   ]
  },
  {
   "cell_type": "markdown",
   "metadata": {},
   "source": [
    "## Latitude vs. Temperature Plot"
   ]
  },
  {
   "cell_type": "code",
   "execution_count": 11,
   "metadata": {
    "scrolled": true
   },
   "outputs": [
    {
     "data": {
      "image/png": "[encoded data removed]",
      "text/plain": [
       "<Figure size 432x288 with 1 Axes>"
      ]
     },
     "metadata": {
      "needs_background": "light"
     },
     "output_type": "display_data"
    }
   ],
   "source": [
    "# Creating max temp vs. latitude plot\n",
    "line_plot = cities_df.plot.scatter(x='Abs Latitude',y='Max Temperature [C]',c='DarkBlue')\n",
    "plt.title(\"Maximum City Temperature [C] vs. Absolute Value of Latitude\")\n",
    "plt.xlabel('Absolute Value of City Latitude')\n",
    "plt.ylabel('Maximum City Temperature [C]')\n",
    "\n",
    "plot_name = \"City Temp vs. Abs Latitude\"\n",
    "plt.savefig(f'C:/Users/palan/NW-Data-Science/Python-Api-Challenge/output_data/{plot_name}.png')\n"
   ]
  },
  {
   "cell_type": "markdown",
   "metadata": {},
   "source": [
    "## Latitude vs. Humidity Plot"
   ]
  },
  {
   "cell_type": "code",
   "execution_count": 12,
   "metadata": {},
   "outputs": [
    {
     "data": {
      "image/png": "[encoded data removed]",
      "text/plain": [
       "<Figure size 432x288 with 1 Axes>"
      ]
     },
     "metadata": {
      "needs_background": "light"
     },
     "output_type": "display_data"
    }
   ],
   "source": [
    "# Creating humidity vs. latitude plot\n",
    "line_plot = cities_df.plot.scatter(x='Abs Latitude',y='Humidity',c='DarkBlue')\n",
    "plt.title(\"Percent Humidity vs. Absolute Value in Latitude\")\n",
    "plt.xlabel('Absolute Value of City Latitude')\n",
    "plt.ylabel('Humidity [%]')\n",
    "\n",
    "plot_name = \"Humidity vs. Abs Latitude\"\n",
    "plt.savefig(f'C:/Users/palan/NW-Data-Science/Python-Api-Challenge/output_data/{plot_name}.png')\n"
   ]
  },
  {
   "cell_type": "markdown",
   "metadata": {},
   "source": [
    "## Latitude vs. Cloudiness Plot"
   ]
  },
  {
   "cell_type": "code",
   "execution_count": 13,
   "metadata": {},
   "outputs": [
    {
     "data": {
      "image/png": "[encoded data removed]",
      "text/plain": [
       "<Figure size 432x288 with 1 Axes>"
      ]
     },
     "metadata": {
      "needs_background": "light"
     },
     "output_type": "display_data"
    }
   ],
   "source": [
    "# Creating cloudiness vs. latitude plot\n",
    "line_plot = cities_df.plot.scatter(x='Abs Latitude',y='Cloudiness',c='DarkBlue')\n",
    "plt.title(\"Percent Cloudiness vs. Absolute Value in Latitude\")\n",
    "plt.xlabel('Absolute Value of City Latitude')\n",
    "plt.ylabel('Cloudiness [%]')\n",
    "\n",
    "plot_name = \"Cloudiness vs. Abs Latitude\"\n",
    "plt.savefig(f'C:/Users/palan/NW-Data-Science/Python-Api-Challenge/output_data/{plot_name}.png')\n"
   ]
  },
  {
   "cell_type": "markdown",
   "metadata": {},
   "source": [
    "## Latitude vs. Wind Speed Plot"
   ]
  },
  {
   "cell_type": "code",
   "execution_count": 14,
   "metadata": {},
   "outputs": [
    {
     "data": {
      "image/png": "[encoded data removed]",
      "text/plain": [
       "<Figure size 432x288 with 1 Axes>"
      ]
     },
     "metadata": {
      "needs_background": "light"
     },
     "output_type": "display_data"
    }
   ],
   "source": [
    "# Creating wind speed vs. latitude plot\n",
    "line_plot = cities_df.plot.scatter(x='Abs Latitude',y='Wind Speed',c='DarkBlue')\n",
    "plt.title(\"Wind Speed vs. Absolute Value in Latitude\")\n",
    "plt.xlabel('Absolute Value of City Latitude')\n",
    "plt.ylabel('Wind Speed [mph]')\n",
    "\n",
    "plot_name = \"Wind Speed vs. Abs Latitude\"\n",
    "plt.savefig(f'C:/Users/palan/NW-Data-Science/Python-Api-Challenge/output_data/{plot_name}.png')\n"
   ]
  },
  {
   "cell_type": "markdown",
   "metadata": {},
   "source": [
    "## Linear Regression"
   ]
  },
  {
   "cell_type": "markdown",
   "metadata": {},
   "source": [
    "## Max Temperature vs. Latitude"
   ]
  },
  {
   "cell_type": "code",
   "execution_count": 15,
   "metadata": {},
   "outputs": [
    {
     "name": "stdout",
     "output_type": "stream",
     "text": [
      "\n",
      "Slope: -0.62\n",
      "R-Squared: 0.75\n",
      "\n",
      "There's an inverse relationship beween temperature and latitude in the northern hemisphere.\n",
      "This correlation is very strong.\n",
      " \n",
      "\n"
     ]
    },
    {
     "name": "stderr",
     "output_type": "stream",
     "text": [
      "<ipython-input-15-ca73d9a0bcf6>:7: SettingWithCopyWarning: \n",
      "A value is trying to be set on a copy of a slice from a DataFrame.\n",
      "Try using .loc[row_indexer,col_indexer] = value instead\n",
      "\n",
      "See the caveats in the documentation: https://pandas.pydata.org/pandas-docs/stable/user_guide/indexing.html#returning-a-view-versus-a-copy\n",
      "  north_cities_df['temp_y'] = pd.Series([slope*element + intercept for element in x], index = north_cities_df.index)\n"
     ]
    },
    {
     "data": {
      "image/png": "[encoded data removed]",
      "text/plain": [
       "<Figure size 432x288 with 1 Axes>"
      ]
     },
     "metadata": {
      "needs_background": "light"
     },
     "output_type": "display_data"
    }
   ],
   "source": [
    "# calculate linear regression\n",
    "x = north_cities_df['Latitude'].to_list()\n",
    "y = north_cities_df['Max Temperature [C]'].to_list()\n",
    "slope, intercept, r_value, p_value, std_err = st.linregress(x,y)\n",
    "\n",
    "# calculate line-of-best-fit values\n",
    "north_cities_df['temp_y'] = pd.Series([slope*element + intercept for element in x], index = north_cities_df.index)\n",
    "\n",
    "# Creating the plot \n",
    "line_plot = north_cities_df.plot.scatter(x='Latitude',y='Max Temperature [C]',c='DarkBlue')\n",
    "plt.title(\"Temperature vs. Latitude\")\n",
    "plt.xlabel('Latitude')\n",
    "plt.ylabel('Temperature [C]')\n",
    "\n",
    "# plotting line-of-best-fit\n",
    "plt.plot('Latitude', 'temp_y', data=north_cities_df, marker='', color='red', linewidth=1)\n",
    "\n",
    "# calculate r-squared from r-value\n",
    "r_sqrd = r_value**2\n",
    "\n",
    "# print slope, r-value, & r-squared\n",
    "print(f'\\nSlope: {round(slope,2)}\\nR-Squared: {round(r_sqrd,2)}')\n",
    "\n",
    "# print analysis statement\n",
    "print('''\n",
    "There's an inverse relationship beween temperature and latitude in the northern hemisphere.\n",
    "This correlation is very strong.\\n \n",
    "''')\n",
    "\n",
    "plot_name = \"Temp vs. North Latitude\"\n",
    "plt.savefig(f'C:/Users/palan/NW-Data-Science/Python-Api-Challenge/output_data/{plot_name}.png')\n"
   ]
  },
  {
   "cell_type": "markdown",
   "metadata": {},
   "source": [
    "####  Southern Hemisphere - Max Temp vs. Latitude Linear Regression"
   ]
  },
  {
   "cell_type": "code",
   "execution_count": 16,
   "metadata": {},
   "outputs": [
    {
     "name": "stderr",
     "output_type": "stream",
     "text": [
      "<ipython-input-16-b27552d875c0>:7: SettingWithCopyWarning: \n",
      "A value is trying to be set on a copy of a slice from a DataFrame.\n",
      "Try using .loc[row_indexer,col_indexer] = value instead\n",
      "\n",
      "See the caveats in the documentation: https://pandas.pydata.org/pandas-docs/stable/user_guide/indexing.html#returning-a-view-versus-a-copy\n",
      "  south_cities_df['temp_y'] = pd.Series([slope*element + intercept for element in x], index = south_cities_df.index)\n"
     ]
    },
    {
     "name": "stdout",
     "output_type": "stream",
     "text": [
      "\n",
      "Slope: 0.27\n",
      "R-Squared: 0.31\n",
      "\n",
      "There's an direct relationship beween temperature and latitude in the southern hemisphere.\n",
      "This correlation is reasonably strong.\n",
      " \n",
      "\n"
     ]
    },
    {
     "data": {
      "image/png": "[encoded data removed]",
      "text/plain": [
       "<Figure size 432x288 with 1 Axes>"
      ]
     },
     "metadata": {
      "needs_background": "light"
     },
     "output_type": "display_data"
    }
   ],
   "source": [
    "# calculate linear regression\n",
    "x = south_cities_df['Latitude'].to_list()\n",
    "y = south_cities_df['Max Temperature [C]'].to_list()\n",
    "slope, intercept, r_value, p_value, std_err = st.linregress(x,y)\n",
    "\n",
    "# calculate line-of-best-fit values\n",
    "south_cities_df['temp_y'] = pd.Series([slope*element + intercept for element in x], index = south_cities_df.index)\n",
    "\n",
    "# Creating the plot \n",
    "line_plot = south_cities_df.plot.scatter(x='Latitude',y='Max Temperature [C]',c='DarkBlue')\n",
    "plt.title(\"Temperature vs. Latitude\")\n",
    "plt.xlabel('Latitude')\n",
    "plt.ylabel('Temperature [C]')\n",
    "\n",
    "# plotting line-of-best-fit\n",
    "plt.plot('Latitude', 'temp_y', data=south_cities_df, marker='', color='red', linewidth=1)\n",
    "\n",
    "# calculate r-squared from r-value\n",
    "r_sqrd = r_value**2\n",
    "\n",
    "# print slope, r-value, & r-squared\n",
    "print(f'\\nSlope: {round(slope,2)}\\nR-Squared: {round(r_sqrd,2)}')\n",
    "\n",
    "# print analysis statement\n",
    "print('''\n",
    "There's an direct relationship beween temperature and latitude in the southern hemisphere.\n",
    "This correlation is reasonably strong.\\n \n",
    "''')\n",
    "\n",
    "plot_name = \"Temp vs. South Latitude\"\n",
    "plt.savefig(f'C:/Users/palan/NW-Data-Science/Python-Api-Challenge/output_data/{plot_name}.png')\n"
   ]
  },
  {
   "cell_type": "markdown",
   "metadata": {},
   "source": [
    "####  Northern Hemisphere - Humidity (%) vs. Latitude Linear Regression"
   ]
  },
  {
   "cell_type": "code",
   "execution_count": 76,
   "metadata": {},
   "outputs": [
    {
     "name": "stderr",
     "output_type": "stream",
     "text": [
      "<ipython-input-76-ebbe2ad18eee>:7: SettingWithCopyWarning: \n",
      "A value is trying to be set on a copy of a slice from a DataFrame.\n",
      "Try using .loc[row_indexer,col_indexer] = value instead\n",
      "\n",
      "See the caveats in the documentation: https://pandas.pydata.org/pandas-docs/stable/user_guide/indexing.html#returning-a-view-versus-a-copy\n",
      "  north_cities_df['humidity_y'] = pd.Series([slope*element + intercept for element in x], index = north_cities_df.index)\n"
     ]
    },
    {
     "name": "stdout",
     "output_type": "stream",
     "text": [
      "\n",
      "Slope: 0.27\n",
      "R-Squared: 0.08\n",
      "\n",
      "There's a direct relationship beween latitude and humidity in the northern hemisphere.\n",
      "This correlation is very weak.\n",
      " \n",
      "\n"
     ]
    },
    {
     "data": {
      "image/png": "[encoded data removed]",
      "text/plain": [
       "<Figure size 432x288 with 1 Axes>"
      ]
     },
     "metadata": {
      "needs_background": "light"
     },
     "output_type": "display_data"
    }
   ],
   "source": [
    "# calculate linear regression\n",
    "x = north_cities_df['Latitude'].to_list()\n",
    "y = north_cities_df['Humidity'].to_list()\n",
    "slope, intercept, r_value, p_value, std_err = st.linregress(x,y)\n",
    "\n",
    "# calculate line-of-best-fit values\n",
    "north_cities_df['humidity_y'] = pd.Series([slope*element + intercept for element in x], index = north_cities_df.index)\n",
    "\n",
    "# Creating the plot \n",
    "line_plot = north_cities_df.plot.scatter(x='Latitude',y='Humidity',c='DarkBlue')\n",
    "plt.title(\"Humidity vs. Latitude\")\n",
    "plt.xlabel('Latitude')\n",
    "plt.ylabel('Humidity [%]')\n",
    "\n",
    "# plotting line-of-best-fit\n",
    "plt.plot('Latitude', 'humidity_y', data=north_cities_df, marker='', color='red', linewidth=1)\n",
    "\n",
    "# calculate r-squared from r-value\n",
    "r_sqrd = r_value**2\n",
    "\n",
    "# print slope, r-value, & r-squared\n",
    "print(f'\\nSlope: {round(slope,2)}\\nR-Squared: {round(r_sqrd,2)}')\n",
    "\n",
    "# print analysis statement\n",
    "print('''\n",
    "There's a direct relationship beween latitude and humidity in the northern hemisphere.\n",
    "This correlation is very weak.\\n \n",
    "''')\n",
    "\n",
    "plot_name = \"Humidity vs. North Latitude\"\n",
    "plt.savefig(f'C:/Users/palan/NW-Data-Science/Python-Api-Challenge/output_data/{plot_name}.png')\n"
   ]
  },
  {
   "cell_type": "markdown",
   "metadata": {},
   "source": [
    "####  Southern Hemisphere - Humidity (%) vs. Latitude Linear Regression"
   ]
  },
  {
   "cell_type": "code",
   "execution_count": 17,
   "metadata": {},
   "outputs": [
    {
     "name": "stdout",
     "output_type": "stream",
     "text": [
      "\n",
      "Slope: 0.28\n",
      "R-Squared: 0.04\n",
      "\n",
      "There's a direct relationship beween latitude and humidity in the southern hemisphere.\n",
      "This correlation is fairly weak.\n",
      " \n",
      "\n"
     ]
    },
    {
     "name": "stderr",
     "output_type": "stream",
     "text": [
      "<ipython-input-17-4cfdf079100c>:7: SettingWithCopyWarning: \n",
      "A value is trying to be set on a copy of a slice from a DataFrame.\n",
      "Try using .loc[row_indexer,col_indexer] = value instead\n",
      "\n",
      "See the caveats in the documentation: https://pandas.pydata.org/pandas-docs/stable/user_guide/indexing.html#returning-a-view-versus-a-copy\n",
      "  south_cities_df['humidity_y'] = pd.Series([slope*element + intercept for element in x], index = south_cities_df.index)\n"
     ]
    },
    {
     "data": {
      "image/png": "[encoded data removed]",
      "text/plain": [
       "<Figure size 432x288 with 1 Axes>"
      ]
     },
     "metadata": {
      "needs_background": "light"
     },
     "output_type": "display_data"
    }
   ],
   "source": [
    "# calculate linear regression\n",
    "x = south_cities_df['Latitude'].to_list()\n",
    "y = south_cities_df['Humidity'].to_list()\n",
    "slope, intercept, r_value, p_value, std_err = st.linregress(x,y)\n",
    "\n",
    "# calculate line-of-best-fit values\n",
    "south_cities_df['humidity_y'] = pd.Series([slope*element + intercept for element in x], index = south_cities_df.index)\n",
    "\n",
    "# Creating the plot \n",
    "line_plot = south_cities_df.plot.scatter(x='Latitude',y='Humidity',c='DarkBlue')\n",
    "plt.title(\"Humidity vs. Latitude\")\n",
    "plt.xlabel('Latitude')\n",
    "plt.ylabel('Humidity [%]')\n",
    "\n",
    "# plotting line-of-best-fit\n",
    "plt.plot('Latitude', 'humidity_y', data=south_cities_df, marker='', color='red', linewidth=1)\n",
    "\n",
    "# calculate r-squared from r-value\n",
    "r_sqrd = r_value**2\n",
    "\n",
    "# print slope, r-value, & r-squared\n",
    "print(f'\\nSlope: {round(slope,2)}\\nR-Squared: {round(r_sqrd,2)}')\n",
    "\n",
    "# print analysis statement\n",
    "print('''\n",
    "There's a direct relationship beween latitude and humidity in the southern hemisphere.\n",
    "This correlation is fairly weak.\\n \n",
    "''')\n",
    "\n",
    "plot_name = \"Humidity vs. South Latitude\"\n",
    "plt.savefig(f'C:/Users/palan/NW-Data-Science/Python-Api-Challenge/output_data/{plot_name}.png')\n"
   ]
  },
  {
   "cell_type": "markdown",
   "metadata": {},
   "source": [
    "####  Northern Hemisphere - Cloudiness (%) vs. Latitude Linear Regression"
   ]
  },
  {
   "cell_type": "code",
   "execution_count": 18,
   "metadata": {},
   "outputs": [
    {
     "name": "stderr",
     "output_type": "stream",
     "text": [
      "<ipython-input-18-98147cfdfbd9>:7: SettingWithCopyWarning: \n",
      "A value is trying to be set on a copy of a slice from a DataFrame.\n",
      "Try using .loc[row_indexer,col_indexer] = value instead\n",
      "\n",
      "See the caveats in the documentation: https://pandas.pydata.org/pandas-docs/stable/user_guide/indexing.html#returning-a-view-versus-a-copy\n",
      "  north_cities_df['cloudiness_y'] = pd.Series([slope*element + intercept for element in x], index = north_cities_df.index)\n"
     ]
    },
    {
     "name": "stdout",
     "output_type": "stream",
     "text": [
      "\n",
      "Slope: 0.75\n",
      "R-Squared: 0.14\n",
      "\n",
      "There's a direct relationship beween latitude and cloudiness in the northern hemisphere.\n",
      "This correlation is fairly weak.\n",
      " \n",
      "\n"
     ]
    },
    {
     "data": {
      "image/png": "[encoded data removed]",
      "text/plain": [
       "<Figure size 432x288 with 1 Axes>"
      ]
     },
     "metadata": {
      "needs_background": "light"
     },
     "output_type": "display_data"
    }
   ],
   "source": [
    "# calculate linear regression\n",
    "x = north_cities_df['Latitude'].to_list()\n",
    "y = north_cities_df['Cloudiness'].to_list()\n",
    "slope, intercept, r_value, p_value, std_err = st.linregress(x,y)\n",
    "\n",
    "# calculate line-of-best-fit values\n",
    "north_cities_df['cloudiness_y'] = pd.Series([slope*element + intercept for element in x], index = north_cities_df.index)\n",
    "\n",
    "# Creating the plot \n",
    "line_plot = north_cities_df.plot.scatter(x='Latitude',y='Cloudiness',c='DarkBlue')\n",
    "plt.title(\"Cloudiness vs. Latitude\")\n",
    "plt.xlabel('Latitude')\n",
    "plt.ylabel('Cloudiness [%]')\n",
    "\n",
    "# plotting line-of-best-fit\n",
    "plt.plot('Latitude', 'cloudiness_y', data=north_cities_df, marker='', color='red', linewidth=1)\n",
    "\n",
    "# calculate r-squared from r-value\n",
    "r_sqrd = r_value**2\n",
    "\n",
    "# print slope, r-value, & r-squared\n",
    "print(f'\\nSlope: {round(slope,2)}\\nR-Squared: {round(r_sqrd,2)}')\n",
    "\n",
    "# print analysis statement\n",
    "print('''\n",
    "There's a direct relationship beween latitude and cloudiness in the northern hemisphere.\n",
    "This correlation is fairly weak.\\n \n",
    "''')\n",
    "\n",
    "plot_name = \"Cloudiness vs. North Latitude\"\n",
    "plt.savefig(f'C:/Users/palan/NW-Data-Science/Python-Api-Challenge/output_data/{plot_name}.png')\n"
   ]
  },
  {
   "cell_type": "markdown",
   "metadata": {},
   "source": [
    "####  Southern Hemisphere - Cloudiness (%) vs. Latitude Linear Regression"
   ]
  },
  {
   "cell_type": "code",
   "execution_count": 19,
   "metadata": {},
   "outputs": [
    {
     "name": "stdout",
     "output_type": "stream",
     "text": [
      "\n",
      "Slope: 0.98\n",
      "R-Squared: 0.12\n",
      "\n",
      "There's an indirect relationship beween latitude and cloudiness in the southern hemisphere.\n",
      "This correlation is very weak.\n",
      " \n",
      "\n"
     ]
    },
    {
     "name": "stderr",
     "output_type": "stream",
     "text": [
      "<ipython-input-19-e4d3aad0620f>:7: SettingWithCopyWarning: \n",
      "A value is trying to be set on a copy of a slice from a DataFrame.\n",
      "Try using .loc[row_indexer,col_indexer] = value instead\n",
      "\n",
      "See the caveats in the documentation: https://pandas.pydata.org/pandas-docs/stable/user_guide/indexing.html#returning-a-view-versus-a-copy\n",
      "  south_cities_df['cloudiness_y'] = pd.Series([slope*element + intercept for element in x], index = south_cities_df.index)\n"
     ]
    },
    {
     "data": {
      "image/png": "[encoded data removed]",
      "text/plain": [
       "<Figure size 432x288 with 1 Axes>"
      ]
     },
     "metadata": {
      "needs_background": "light"
     },
     "output_type": "display_data"
    }
   ],
   "source": [
    "# calculate linear regression\n",
    "x = south_cities_df['Latitude'].to_list()\n",
    "y = south_cities_df['Cloudiness'].to_list()\n",
    "slope, intercept, r_value, p_value, std_err = st.linregress(x,y)\n",
    "\n",
    "# calculate line-of-best-fit values\n",
    "south_cities_df['cloudiness_y'] = pd.Series([slope*element + intercept for element in x], index = south_cities_df.index)\n",
    "\n",
    "# Creating the plot \n",
    "line_plot = south_cities_df.plot.scatter(x='Latitude',y='Cloudiness',c='DarkBlue')\n",
    "plt.title(\"Cloudiness vs. Latitude\")\n",
    "plt.xlabel('Latitude')\n",
    "plt.ylabel('Cloudiness [%]')\n",
    "\n",
    "# plotting line-of-best-fit\n",
    "plt.plot('Latitude', 'cloudiness_y', data=south_cities_df, marker='', color='red', linewidth=1)\n",
    "\n",
    "# calculate r-squared from r-value\n",
    "r_sqrd = r_value**2\n",
    "\n",
    "# print slope, r-value, & r-squared\n",
    "print(f'\\nSlope: {round(slope,2)}\\nR-Squared: {round(r_sqrd,2)}')\n",
    "\n",
    "# print analysis statement\n",
    "print('''\n",
    "There's an indirect relationship beween latitude and cloudiness in the southern hemisphere.\n",
    "This correlation is very weak.\\n \n",
    "''')\n",
    "\n",
    "plot_name = \"Cloudiness vs. South Latitude\"\n",
    "plt.savefig(f'C:/Users/palan/NW-Data-Science/Python-Api-Challenge/output_data/{plot_name}.png')\n"
   ]
  },
  {
   "cell_type": "markdown",
   "metadata": {},
   "source": [
    "####  Northern Hemisphere - Wind Speed (mph) vs. Latitude Linear Regression"
   ]
  },
  {
   "cell_type": "code",
   "execution_count": 20,
   "metadata": {},
   "outputs": [
    {
     "name": "stderr",
     "output_type": "stream",
     "text": [
      "<ipython-input-20-2f8bff4fb58a>:7: SettingWithCopyWarning: \n",
      "A value is trying to be set on a copy of a slice from a DataFrame.\n",
      "Try using .loc[row_indexer,col_indexer] = value instead\n",
      "\n",
      "See the caveats in the documentation: https://pandas.pydata.org/pandas-docs/stable/user_guide/indexing.html#returning-a-view-versus-a-copy\n",
      "  north_cities_df['wind_y'] = pd.Series([slope*element + intercept for element in x], index = north_cities_df.index)\n"
     ]
    },
    {
     "name": "stdout",
     "output_type": "stream",
     "text": [
      "\n",
      "Slope: 0.07\n",
      "R-Squared: 0.05\n",
      "\n",
      "There's essentially no relationship (and no correlation) beween latitude and wind speed in the northern hemisphere. \n",
      "\n"
     ]
    },
    {
     "data": {
      "image/png": "[encoded data removed]",
      "text/plain": [
       "<Figure size 432x288 with 1 Axes>"
      ]
     },
     "metadata": {
      "needs_background": "light"
     },
     "output_type": "display_data"
    }
   ],
   "source": [
    "# calculate linear regression\n",
    "x = north_cities_df['Latitude'].to_list()\n",
    "y = north_cities_df['Wind Speed'].to_list()\n",
    "slope, intercept, r_value, p_value, std_err = st.linregress(x,y)\n",
    "\n",
    "# calculate line-of-best-fit values\n",
    "north_cities_df['wind_y'] = pd.Series([slope*element + intercept for element in x], index = north_cities_df.index)\n",
    "\n",
    "# Creating the plot \n",
    "line_plot = north_cities_df.plot.scatter(x='Latitude',y='Wind Speed',c='DarkBlue')\n",
    "plt.title(\"Wind Speed vs. Latitude\")\n",
    "plt.xlabel('Latitude')\n",
    "plt.ylabel('Wind Speed [mph]')\n",
    "\n",
    "# plotting line-of-best-fit\n",
    "plt.plot('Latitude', 'wind_y', data=north_cities_df, marker='', color='red', linewidth=1)\n",
    "\n",
    "# calculate r-squared from r-value\n",
    "r_sqrd = r_value**2\n",
    "\n",
    "# print slope, r-value, & r-squared\n",
    "print(f'\\nSlope: {round(slope,2)}\\nR-Squared: {round(r_sqrd,2)}')\n",
    "\n",
    "# print analysis statement\n",
    "print('''\n",
    "There's essentially no relationship (and no correlation) beween latitude and wind speed in the northern hemisphere. \n",
    "''')\n",
    "\n",
    "plot_name = \"Wind Speed vs. North Latitude\"\n",
    "plt.savefig(f'C:/Users/palan/NW-Data-Science/Python-Api-Challenge/output_data/{plot_name}.png')\n"
   ]
  },
  {
   "cell_type": "markdown",
   "metadata": {},
   "source": [
    "####  Southern Hemisphere - Wind Speed (mph) vs. Latitude Linear Regression"
   ]
  },
  {
   "cell_type": "code",
   "execution_count": 21,
   "metadata": {},
   "outputs": [
    {
     "name": "stdout",
     "output_type": "stream",
     "text": [
      "\n",
      "Slope: -0.17\n",
      "R-Squared: 0.14\n",
      "\n",
      "There's an indirect relationship beween latitude and wind speed in the southern hemisphere.\n",
      "This correlation is very weak.\n",
      " \n",
      "\n"
     ]
    },
    {
     "name": "stderr",
     "output_type": "stream",
     "text": [
      "<ipython-input-21-4197f476baa6>:7: SettingWithCopyWarning: \n",
      "A value is trying to be set on a copy of a slice from a DataFrame.\n",
      "Try using .loc[row_indexer,col_indexer] = value instead\n",
      "\n",
      "See the caveats in the documentation: https://pandas.pydata.org/pandas-docs/stable/user_guide/indexing.html#returning-a-view-versus-a-copy\n",
      "  south_cities_df['wind_y'] = pd.Series([slope*element + intercept for element in x], index = south_cities_df.index)\n"
     ]
    },
    {
     "data": {
      "image/png": "[encoded data removed]",
      "text/plain": [
       "<Figure size 432x288 with 1 Axes>"
      ]
     },
     "metadata": {
      "needs_background": "light"
     },
     "output_type": "display_data"
    }
   ],
   "source": [
    "# calculate linear regression\n",
    "x = south_cities_df['Latitude'].to_list()\n",
    "y = south_cities_df['Wind Speed'].to_list()\n",
    "slope, intercept, r_value, p_value, std_err = st.linregress(x,y)\n",
    "\n",
    "# calculate line-of-best-fit values\n",
    "south_cities_df['wind_y'] = pd.Series([slope*element + intercept for element in x], index = south_cities_df.index)\n",
    "\n",
    "# Creating the plot \n",
    "line_plot = south_cities_df.plot.scatter(x='Latitude',y='Wind Speed',c='DarkBlue')\n",
    "plt.title(\"Wind Speed vs. Latitude\")\n",
    "plt.xlabel('Latitude')\n",
    "plt.ylabel('Wind Speed [mph]')\n",
    "\n",
    "# plotting line-of-best-fit\n",
    "plt.plot('Latitude', 'wind_y', data=south_cities_df, marker='', color='red', linewidth=1)\n",
    "\n",
    "# calculate r-squared from r-value\n",
    "r_sqrd = r_value**2\n",
    "\n",
    "# print slope, r-value, & r-squared\n",
    "print(f'\\nSlope: {round(slope,2)}\\nR-Squared: {round(r_sqrd,2)}')\n",
    "\n",
    "# print analysis statement\n",
    "print('''\n",
    "There's an indirect relationship beween latitude and wind speed in the southern hemisphere.\n",
    "This correlation is very weak.\\n \n",
    "''')\n",
    "\n",
    "plot_name = \"Wind Speed vs. South Latitude\"\n",
    "plt.savefig(f'C:/Users/palan/NW-Data-Science/Python-Api-Challenge/output_data/{plot_name}.png')\n"
   ]
  }
 ],
 "metadata": {
  "anaconda-cloud": {},
  "kernel_info": {
   "name": "python3"
  },
  "kernelspec": {
   "display_name": "Python 3",
   "language": "python",
   "name": "python3"
  },
  "language_info": {
   "codemirror_mode": {
    "name": "ipython",
    "version": 3
   },
   "file_extension": ".py",
   "mimetype": "text/x-python",
   "name": "python",
   "nbconvert_exporter": "python",
   "pygments_lexer": "ipython3",
   "version": "3.8.3"
  },
  "latex_envs": {
   "LaTeX_envs_menu_present": true,
   "autoclose": false,
   "autocomplete": true,
   "bibliofile": "biblio.bib",
   "cite_by": "apalike",
   "current_citInitial": 1,
   "eqLabelWithNumbers": true,
   "eqNumInitial": 1,
   "hotkeys": {
    "equation": "Ctrl-E",
    "itemize": "Ctrl-I"
   },
   "labels_anchors": false,
   "latex_user_defs": false,
   "report_style_numbering": false,
   "user_envs_cfg": false
  },
  "nteract": {
   "version": "0.12.3"
  }
 },
 "nbformat": 4,
 "nbformat_minor": 2
}
