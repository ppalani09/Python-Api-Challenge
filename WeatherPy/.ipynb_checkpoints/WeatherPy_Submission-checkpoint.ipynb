{
 "cells": [
  {
   "cell_type": "markdown",
   "metadata": {},
   "source": [
    "# WeatherPy\n",
    "----\n",
    "\n",
    "#### Note\n",
    "* Instructions have been included for each segment. You do not have to follow them exactly, but they are included to help you think through the steps."
   ]
  },
  {
   "cell_type": "code",
   "execution_count": 1,
   "metadata": {
    "scrolled": false
   },
   "outputs": [
    {
     "name": "stdout",
     "output_type": "stream",
     "text": [
      "Requirement already satisfied: citipy==0.0.5 in c:\\users\\palan\\anaconda3\\lib\\site-packages (0.0.5)\n",
      "Requirement already satisfied: kdtree>=0.12 in c:\\users\\palan\\anaconda3\\lib\\site-packages (from citipy==0.0.5) (0.16)\n"
     ]
    }
   ],
   "source": [
    "# Dependencies and Setup\n",
    "import matplotlib.pyplot as plt\n",
    "import pandas as pd\n",
    "# pd.options.mode.chained_assignment = None\n",
    "import numpy as np\n",
    "import json\n",
    "import requests\n",
    "import time\n",
    "import scipy.stats as st\n",
    "from scipy.stats import linregress\n",
    "from pprint import pprint\n",
    "\n",
    "# Incorporated citipy to determine city based on latitude and longitude\n",
    "!pip install citipy==0.0.5\n",
    "from citipy import citipy\n",
    "\n",
    "# Range of latitudes and longitudes\n",
    "lat_range = (-90, 90)\n",
    "lng_range = (-180, 180)"
   ]
  },
  {
   "cell_type": "markdown",
   "metadata": {},
   "source": [
    "## Generate Cities List"
   ]
  },
  {
   "cell_type": "code",
   "execution_count": 34,
   "metadata": {
    "scrolled": true
   },
   "outputs": [
    {
     "name": "stdout",
     "output_type": "stream",
     "text": [
      "\n",
      "Number of cities in list: 589\n"
     ]
    }
   ],
   "source": [
    "# List for holding lat_lngs and cities\n",
    "lat_lngs = []\n",
    "cities = []\n",
    "\n",
    "# Create a set of random lat and lng combinations\n",
    "lats = np.random.uniform(lat_range[0], lat_range[1], size=1500)\n",
    "lngs = np.random.uniform(lng_range[0], lng_range[1], size=1500)\n",
    "lat_lngs = zip(lats, lngs)\n",
    "\n",
    "\n",
    "# Identify nearest city for each lat, lng combination\n",
    "for lat_lng in lat_lngs:\n",
    "    city = citipy.nearest_city(lat_lng[0], lat_lng[1]).city_name\n",
    "    \n",
    "    # If the city is unique, then add it to a our cities list\n",
    "    if city not in cities:\n",
    "        cities.append(city)\n",
    "\n",
    "\n",
    "cities_count = len(cities)\n",
    "        \n",
    "# Print the city count to confirm sufficient count\n",
    "print(f'\\nNumber of cities in list: {len(cities)}')"
   ]
  },
  {
   "cell_type": "markdown",
   "metadata": {},
   "source": [
    "### Perform API Calls\n",
    "* Perform a weather check on each city using a series of successive API calls.\n",
    "* Include a print log of each city as it'sbeing processed (with the city number and city name).\n"
   ]
  },
  {
   "cell_type": "code",
   "execution_count": 35,
   "metadata": {
    "scrolled": true
   },
   "outputs": [
    {
     "name": "stdout",
     "output_type": "stream",
     "text": [
      "Request 1 of 589: colares | Completed\n",
      "Request 2 of 589: mabaruma | Completed\n",
      "Request 3 of 589: rikitea | Completed\n",
      "Request 4 of 589: chicama | Completed\n",
      "Request 5 of 589: butaritari | Completed\n",
      "Request 6 of 589: ijaki | Completed\n",
      "Request 7 of 589: hermanus | Completed\n",
      "Request 8 of 589: batemans bay | Completed\n",
      "Request 9 of 589: poum | Completed\n",
      "Request 10 of 589: severo-kurilsk | Completed\n",
      "Request 11 of 589: plastun | Completed\n",
      "Request 12 of 589: chuy | Completed\n",
      "Request 13 of 589: mahebourg | Completed\n",
      "Request 14 of 589: punta arenas | Completed\n",
      "Request 15 of 589: cururupu | Completed\n",
      "Request 16 of 589: kodiak | Completed\n",
      "Request 17 of 589: nkoteng | Completed\n",
      "Request 18 of 589: hilo | Completed\n",
      "Request 19 of 589: ilulissat | Completed\n",
      "Request 20 of 589: saskylakh | Completed\n",
      "Request 21 of 589: taolanaro | Completed\n",
      "Request 22 of 589: matagami | Completed\n",
      "Request 23 of 589: vaini | Completed\n",
      "Request 24 of 589: bredasdorp | Completed\n",
      "Request 25 of 589: cabo san lucas | Completed\n",
      "Request 26 of 589: mataura | Completed\n",
      "Request 27 of 589: rovaniemi | Completed\n",
      "Request 28 of 589: sistranda | Completed\n",
      "Request 29 of 589: atuona | Completed\n",
      "Request 30 of 589: flinders | Completed\n",
      "Request 31 of 589: belushya guba | Completed\n",
      "Request 32 of 589: cherskiy | Completed\n",
      "Request 33 of 589: broome | Completed\n",
      "Request 34 of 589: illoqqortoormiut | Completed\n",
      "Request 35 of 589: barentsburg | Completed\n",
      "Request 36 of 589: castro | Completed\n",
      "Request 37 of 589: lolua | Completed\n",
      "Request 38 of 589: bourail | Completed\n",
      "Request 39 of 589: harper | Completed\n",
      "Request 40 of 589: namibe | Completed\n",
      "Request 41 of 589: talnakh | Completed\n",
      "Request 42 of 589: albany | Completed\n",
      "Request 43 of 589: sao filipe | Completed\n",
      "Request 44 of 589: provideniya | Completed\n",
      "Request 45 of 589: georgetown | Completed\n",
      "Request 46 of 589: arona | Completed\n",
      "Request 47 of 589: ushuaia | Completed\n",
      "Request 48 of 589: frontera | Completed\n",
      "Request 49 of 589: lorengau | Completed\n",
      "Request 50 of 589: airai | Completed\n",
      "Request 51 of 589: barrow | Completed\n",
      "Request 52 of 589: zhigalovo | Completed\n",
      "Request 53 of 589: chimbote | Completed\n",
      "Request 54 of 589: madison heights | Completed\n",
      "Request 55 of 589: jamestown | Completed\n",
      "Request 56 of 589: avarua | Completed\n",
      "Request 57 of 589: cidreira | Completed\n",
      "Request 58 of 589: bogo | Completed\n",
      "Request 59 of 589: lagoa | Completed\n",
      "Request 60 of 589: port alfred | Completed\n",
      "Request 61 of 589: villa bruzual | Completed\n",
      "Request 62 of 589: naze | Completed\n",
      "Request 63 of 589: umm lajj | Completed\n",
      "Request 64 of 589: arraial do cabo | Completed\n",
      "Request 65 of 589: kapaa | Completed\n",
      "Request 66 of 589: busselton | Completed\n",
      "Request 67 of 589: portland | Completed\n",
      "Request 68 of 589: mimoso do sul | Completed\n",
      "Request 69 of 589: shingu | Completed\n",
      "Request 70 of 589: sitka | Completed\n",
      "Request 71 of 589: los llanos de aridane | Completed\n",
      "Request 72 of 589: cape town | Completed\n",
      "Request 73 of 589: sabha | Completed\n",
      "Request 74 of 589: mahibadhoo | Completed\n",
      "Request 75 of 589: cayenne | Completed\n",
      "Request 76 of 589: dikson | Completed\n",
      "Request 77 of 589: acapulco | Completed\n",
      "Request 78 of 589: yellowknife | Completed\n",
      "Request 79 of 589: santa catarina de tepehuanes | Completed\n",
      "Request 80 of 589: margate | Completed\n",
      "Request 81 of 589: hobart | Completed\n",
      "Request 82 of 589: tuktoyaktuk | Completed\n",
      "Request 83 of 589: lokachi | Completed\n",
      "Request 84 of 589: klaksvik | Completed\n",
      "Request 85 of 589: attawapiskat | Completed\n",
      "Request 86 of 589: chapais | Completed\n",
      "Request 87 of 589: mys shmidta | Completed\n",
      "Request 88 of 589: lazaro cardenas | Completed\n",
      "Request 89 of 589: huarmey | Completed\n",
      "Request 90 of 589: hasaki | Completed\n",
      "Request 91 of 589: bluff | Completed\n",
      "Request 92 of 589: wasilla | Completed\n",
      "Request 93 of 589: tabuk | Completed\n",
      "Request 94 of 589: epitalion | Completed\n",
      "Request 95 of 589: paamiut | Completed\n",
      "Request 96 of 589: katsuura | Completed\n",
      "Request 97 of 589: buraydah | Completed\n",
      "Request 98 of 589: kattivakkam | Completed\n",
      "Request 99 of 589: yabelo | Completed\n",
      "Request 100 of 589: puerto ayora | Completed\n",
      "Request 101 of 589: novosergiyevka | Completed\n",
      "Request 102 of 589: khatanga | Completed\n",
      "Request 103 of 589: springbok | Completed\n",
      "Request 104 of 589: manzil jamil | Completed\n",
      "Request 105 of 589: grindavik | Completed\n",
      "Request 106 of 589: la ronge | Completed\n",
      "Request 107 of 589: hofn | Completed\n",
      "Request 108 of 589: santa isabel do rio negro | Completed\n",
      "Request 109 of 589: vila | Completed\n",
      "Request 110 of 589: shimoda | Completed\n",
      "Request 111 of 589: mersing | Completed\n",
      "Request 112 of 589: yabrud | Completed\n",
      "Request 113 of 589: alihe | Completed\n",
      "Request 114 of 589: zwedru | Completed\n",
      "Request 115 of 589: ukiah | Completed\n",
      "Request 116 of 589: new norfolk | Completed\n",
      "Request 117 of 589: marion | Completed\n",
      "Request 118 of 589: jishou | Completed\n",
      "Request 119 of 589: ponta do sol | Completed\n",
      "Request 120 of 589: celestun | Completed\n",
      "Request 121 of 589: aylmer | Completed\n",
      "Request 122 of 589: saint-francois | Completed\n",
      "Request 123 of 589: khorixas | Completed\n",
      "Request 124 of 589: dingle | Completed\n",
      "Request 125 of 589: kruisfontein | Completed\n",
      "Request 126 of 589: qaanaaq | Completed\n",
      "Request 127 of 589: krasnogorskoye | Completed\n",
      "Request 128 of 589: labuhan | Completed\n",
      "Request 129 of 589: luderitz | Completed\n",
      "Request 130 of 589: hithadhoo | Completed\n",
      "Request 131 of 589: rundu | Completed\n",
      "Request 132 of 589: perumpavur | Completed\n",
      "Request 133 of 589: salvador | Completed\n",
      "Request 134 of 589: nishihara | Completed\n",
      "Request 135 of 589: conde | Completed\n",
      "Request 136 of 589: lebu | Completed\n",
      "Request 137 of 589: pedro juan caballero | Completed\n",
      "Request 138 of 589: banepa | Completed\n",
      "Request 139 of 589: baisha | Completed\n",
      "Request 140 of 589: dzhubga | Completed\n",
      "Request 141 of 589: nago | Completed\n",
      "Request 142 of 589: wagar | Completed\n",
      "Request 143 of 589: anadyr | Completed\n",
      "Request 144 of 589: camacha | Completed\n",
      "Request 145 of 589: saint-pierre | Completed\n",
      "Request 146 of 589: ketchenery | Completed\n",
      "Request 147 of 589: victoria | Completed\n",
      "Request 148 of 589: north platte | Completed\n",
      "Request 149 of 589: lobito | Completed\n",
      "Request 150 of 589: raudeberg | Completed\n",
      "Request 151 of 589: callaway | Completed\n",
      "Request 152 of 589: tasiilaq | Completed\n",
      "Request 153 of 589: kahului | Completed\n",
      "Request 154 of 589: san patricio | Completed\n",
      "Request 155 of 589: loa janan | Completed\n",
      "Request 156 of 589: frankfort | Completed\n",
      "Request 157 of 589: leningradskiy | Completed\n",
      "Request 158 of 589: kulhudhuffushi | Completed\n",
      "Request 159 of 589: grand river south east | Completed\n",
      "Request 160 of 589: itarema | Completed\n",
      "Request 161 of 589: esperance | Completed\n",
      "Request 162 of 589: norman wells | Completed\n",
      "Request 163 of 589: bengkulu | Completed\n",
      "Request 164 of 589: rio grande | Completed\n",
      "Request 165 of 589: vicksburg | Completed\n",
      "Request 166 of 589: coquimbo | Completed\n",
      "Request 167 of 589: port hedland | Completed\n",
      "Request 168 of 589: aripuana | Completed\n",
      "Request 169 of 589: miles city | Completed\n",
      "Request 170 of 589: sao jose de piranhas | Completed\n",
      "Request 171 of 589: melo | Completed\n",
      "Request 172 of 589: east london | Completed\n",
      "Request 173 of 589: pisco | Completed\n",
      "Request 174 of 589: karaul | Completed\n",
      "Request 175 of 589: roma | Completed\n",
      "Request 176 of 589: akyab | Completed\n",
      "Request 177 of 589: santa maria | Completed\n",
      "Request 178 of 589: aklavik | Completed\n",
      "Request 179 of 589: sipkovica | Completed\n",
      "Request 180 of 589: addis zemen | Completed\n",
      "Request 181 of 589: ambilobe | Completed\n",
      "Request 182 of 589: madimba | Completed\n",
      "Request 183 of 589: yulara | Completed\n",
      "Request 184 of 589: kathu | Completed\n",
      "Request 185 of 589: olafsvik | Completed\n",
      "Request 186 of 589: necochea | Completed\n",
      "Request 187 of 589: puerto carreno | Completed\n",
      "Request 188 of 589: vaitupu | Completed\n",
      "Request 189 of 589: guerrero negro | Completed\n",
      "Request 190 of 589: carnarvon | Completed\n",
      "Request 191 of 589: karratha | Completed\n",
      "Request 192 of 589: sheregesh | Completed\n",
      "Request 193 of 589: langsa | Completed\n",
      "Request 194 of 589: pervomayskoye | Completed\n",
      "Request 195 of 589: zhicheng | Completed\n",
      "Request 196 of 589: iqaluit | Completed\n",
      "Request 197 of 589: luanda | Completed\n",
      "Request 198 of 589: port blair | Completed\n",
      "Request 199 of 589: gambo | Completed\n",
      "Request 200 of 589: acari | Completed\n",
      "Request 201 of 589: san cristobal | Completed\n"
     ]
    },
    {
     "name": "stdout",
     "output_type": "stream",
     "text": [
      "Request 202 of 589: tiksi | Completed\n",
      "Request 203 of 589: sangmelima | Completed\n",
      "Request 204 of 589: kaeo | Completed\n",
      "Request 205 of 589: freeport | Completed\n",
      "Request 206 of 589: saleaula | Completed\n",
      "Request 207 of 589: egvekinot | Completed\n",
      "Request 208 of 589: sentyabrskiy | Completed\n",
      "Request 209 of 589: monywa | Completed\n",
      "Request 210 of 589: wanning | Completed\n",
      "Request 211 of 589: rocha | Completed\n",
      "Request 212 of 589: thompson | Completed\n",
      "Request 213 of 589: vardo | Completed\n",
      "Request 214 of 589: torbay | Completed\n",
      "Request 215 of 589: hamilton | Completed\n",
      "Request 216 of 589: ahipara | Completed\n",
      "Request 217 of 589: assiniboia | Completed\n",
      "Request 218 of 589: arica | Completed\n",
      "Request 219 of 589: ponta delgada | Completed\n",
      "Request 220 of 589: mitu | Completed\n",
      "Request 221 of 589: kihei | Completed\n",
      "Request 222 of 589: rongcheng | Completed\n",
      "Request 223 of 589: krasnyy gulyay | Completed\n",
      "Request 224 of 589: half moon bay | Completed\n",
      "Request 225 of 589: skeldon | Completed\n",
      "Request 226 of 589: vila velha | Completed\n",
      "Request 227 of 589: letlhakeng | Completed\n",
      "Request 228 of 589: qaqortoq | Completed\n",
      "Request 229 of 589: eyl | Completed\n",
      "Request 230 of 589: clyde river | Completed\n",
      "Request 231 of 589: bayburt | Completed\n",
      "Request 232 of 589: upernavik | Completed\n",
      "Request 233 of 589: ariquemes | Completed\n",
      "Request 234 of 589: kupang | Completed\n",
      "Request 235 of 589: verkhnyaya inta | Completed\n",
      "Request 236 of 589: yerbogachen | Completed\n",
      "Request 237 of 589: berlevag | Completed\n",
      "Request 238 of 589: amderma | Completed\n",
      "Request 239 of 589: sai buri | Completed\n",
      "Request 240 of 589: beyneu | Completed\n",
      "Request 241 of 589: chik | Completed\n",
      "Request 242 of 589: do gonbadan | Completed\n",
      "Request 243 of 589: chokurdakh | Completed\n",
      "Request 244 of 589: taoudenni | Completed\n",
      "Request 245 of 589: mar del plata | Completed\n",
      "Request 246 of 589: san quintin | Completed\n",
      "Request 247 of 589: roald | Completed\n",
      "Request 248 of 589: nizhneyansk | Completed\n",
      "Request 249 of 589: huainan | Completed\n",
      "Request 250 of 589: vavuniya | Completed\n",
      "Request 251 of 589: pacific grove | Completed\n",
      "Request 252 of 589: broken hill | Completed\n",
      "Request 253 of 589: ancud | Completed\n",
      "Request 254 of 589: longyearbyen | Completed\n",
      "Request 255 of 589: mana | Completed\n",
      "Request 256 of 589: quelimane | Completed\n",
      "Request 257 of 589: lompoc | Completed\n",
      "Request 258 of 589: muisne | Completed\n",
      "Request 259 of 589: cheuskiny | Completed\n",
      "Request 260 of 589: port keats | Completed\n",
      "Request 261 of 589: jaisalmer | Completed\n",
      "Request 262 of 589: saint george | Completed\n",
      "Request 263 of 589: znin | Completed\n",
      "Request 264 of 589: vestmannaeyjar | Completed\n",
      "Request 265 of 589: te anau | Completed\n",
      "Request 266 of 589: jesenice | Completed\n",
      "Request 267 of 589: shache | Completed\n",
      "Request 268 of 589: ust-kut | Completed\n",
      "Request 269 of 589: ust-tsilma | Completed\n",
      "Request 270 of 589: san luis | Completed\n",
      "Request 271 of 589: nizhyn | Completed\n",
      "Request 272 of 589: boat of garten | Completed\n",
      "Request 273 of 589: launceston | Completed\n",
      "Request 274 of 589: san policarpo | Completed\n",
      "Request 275 of 589: kavaratti | Completed\n",
      "Request 276 of 589: ribeira grande | Completed\n",
      "Request 277 of 589: yar-sale | Completed\n",
      "Request 278 of 589: znamenskoye | Completed\n",
      "Request 279 of 589: alofi | Completed\n",
      "Request 280 of 589: bolungarvik | Completed\n",
      "Request 281 of 589: damietta | Completed\n",
      "Request 282 of 589: souillac | Completed\n",
      "Request 283 of 589: ramjibanpur | Completed\n",
      "Request 284 of 589: port elizabeth | Completed\n",
      "Request 285 of 589: grenfell | Completed\n",
      "Request 286 of 589: glendive | Completed\n",
      "Request 287 of 589: de aar | Completed\n",
      "Request 288 of 589: puerto del rosario | Completed\n",
      "Request 289 of 589: chissamba | Completed\n",
      "Request 290 of 589: sarankhola | Completed\n",
      "Request 291 of 589: trairi | Completed\n",
      "Request 292 of 589: tres arroyos | Completed\n",
      "Request 293 of 589: oriximina | Completed\n",
      "Request 294 of 589: arlit | Completed\n",
      "Request 295 of 589: anapolis | Completed\n",
      "Request 296 of 589: isangel | Completed\n",
      "Request 297 of 589: jiujiang | Completed\n",
      "Request 298 of 589: vallee-jonction | Completed\n",
      "Request 299 of 589: ayagoz | Completed\n",
      "Request 300 of 589: rawson | Completed\n",
      "Request 301 of 589: la fleche | Completed\n",
      "Request 302 of 589: asau | Completed\n",
      "Request 303 of 589: palabuhanratu | Completed\n",
      "Request 304 of 589: vanimo | Completed\n",
      "Request 305 of 589: krasnoslobodsk | Completed\n",
      "Request 306 of 589: presidente medici | Completed\n",
      "Request 307 of 589: erenhot | Completed\n",
      "Request 308 of 589: jadu | Completed\n",
      "Request 309 of 589: bethel | Completed\n",
      "Request 310 of 589: richards bay | Completed\n",
      "Request 311 of 589: sur | Completed\n",
      "Request 312 of 589: uchiza | Completed\n",
      "Request 313 of 589: tsihombe | Completed\n",
      "Request 314 of 589: sao joao da barra | Completed\n",
      "Request 315 of 589: pevek | Completed\n",
      "Request 316 of 589: hay river | Completed\n",
      "Request 317 of 589: teya | Completed\n",
      "Request 318 of 589: chambas | Completed\n",
      "Request 319 of 589: santa rosa | Completed\n",
      "Request 320 of 589: juifang | Completed\n",
      "Request 321 of 589: mogadishu | Completed\n",
      "Request 322 of 589: flin flon | Completed\n",
      "Request 323 of 589: carbonia | Completed\n",
      "Request 324 of 589: rohri | Completed\n",
      "Request 325 of 589: wajid | Completed\n",
      "Request 326 of 589: nikolskoye | Completed\n",
      "Request 327 of 589: sobolevo | Completed\n",
      "Request 328 of 589: prince rupert | Completed\n",
      "Request 329 of 589: saint-philippe | Completed\n",
      "Request 330 of 589: makakilo city | Completed\n",
      "Request 331 of 589: macaboboni | Completed\n",
      "Request 332 of 589: ulaangom | Completed\n",
      "Request 333 of 589: bilibino | Completed\n",
      "Request 334 of 589: mbarara | Completed\n",
      "Request 335 of 589: champasak | Completed\n",
      "Request 336 of 589: hobyo | Completed\n",
      "Request 337 of 589: salalah | Completed\n",
      "Request 338 of 589: aswan | Completed\n",
      "Request 339 of 589: plettenberg bay | Completed\n",
      "Request 340 of 589: cassilandia | Completed\n",
      "Request 341 of 589: babu | Completed\n",
      "Request 342 of 589: tumannyy | Completed\n",
      "Request 343 of 589: pangnirtung | Completed\n",
      "Request 344 of 589: sheltozero | Completed\n",
      "Request 345 of 589: leh | Completed\n",
      "Request 346 of 589: yago | Completed\n",
      "Request 347 of 589: bambous virieux | Completed\n",
      "Request 348 of 589: panan | Completed\n",
      "Request 349 of 589: mufumbwe | Completed\n",
      "Request 350 of 589: omboue | Completed\n",
      "Request 351 of 589: toliary | Completed\n",
      "Request 352 of 589: narsaq | Completed\n",
      "Request 353 of 589: najran | Completed\n",
      "Request 354 of 589: constitucion | Completed\n",
      "Request 355 of 589: coahuayana | Completed\n",
      "Request 356 of 589: kununurra | Completed\n",
      "Request 357 of 589: hami | Completed\n",
      "Request 358 of 589: polyarnyy | Completed\n",
      "Request 359 of 589: kaoma | Completed\n",
      "Request 360 of 589: chumikan | Completed\n",
      "Request 361 of 589: nanortalik | Completed\n",
      "Request 362 of 589: nueva gerona | Completed\n",
      "Request 363 of 589: amiens | Completed\n",
      "Request 364 of 589: tautira | Completed\n",
      "Request 365 of 589: goderich | Completed\n",
      "Request 366 of 589: karasuk | Completed\n",
      "Request 367 of 589: kaitangata | Completed\n",
      "Request 368 of 589: nijar | Completed\n",
      "Request 369 of 589: lardos | Completed\n",
      "Request 370 of 589: atambua | Completed\n",
      "Request 371 of 589: muros | Completed\n",
      "Request 372 of 589: tuatapere | Completed\n",
      "Request 373 of 589: paracuru | Completed\n",
      "Request 374 of 589: krasnyy klyuch | Completed\n",
      "Request 375 of 589: banbury | Completed\n",
      "Request 376 of 589: tilichiki | Completed\n",
      "Request 377 of 589: gangotri | Completed\n",
      "Request 378 of 589: puri | Completed\n",
      "Request 379 of 589: rungata | Completed\n",
      "Request 380 of 589: nemuro | Completed\n",
      "Request 381 of 589: portobelo | Completed\n",
      "Request 382 of 589: ixtapa | Completed\n",
      "Request 383 of 589: guaruja | Completed\n",
      "Request 384 of 589: beisfjord | Completed\n",
      "Request 385 of 589: ringkobing | Completed\n",
      "Request 386 of 589: brae | Completed\n",
      "Request 387 of 589: xuddur | Completed\n",
      "Request 388 of 589: petropavlovsk-kamchatskiy | Completed\n",
      "Request 389 of 589: tigil | Completed\n",
      "Request 390 of 589: high level | Completed\n",
      "Request 391 of 589: mushie | Completed\n",
      "Request 392 of 589: jiroft | Completed\n",
      "Request 393 of 589: bela | Completed\n",
      "Request 394 of 589: sabang | Completed\n",
      "Request 395 of 589: saint-ambroise | Completed\n",
      "Request 396 of 589: santa vitoria do palmar | Completed\n",
      "Request 397 of 589: balkanabat | Completed\n",
      "Request 398 of 589: veraval | Completed\n",
      "Request 399 of 589: upata | Completed\n"
     ]
    },
    {
     "name": "stdout",
     "output_type": "stream",
     "text": [
      "Request 400 of 589: vreed en hoop | Completed\n",
      "Request 401 of 589: axim | Completed\n",
      "Request 402 of 589: parrita | Completed\n",
      "Request 403 of 589: bojnurd | Completed\n",
      "Request 404 of 589: caravelas | Completed\n",
      "Request 405 of 589: pousat | Completed\n",
      "Request 406 of 589: de haan | Completed\n",
      "Request 407 of 589: birao | Completed\n",
      "Request 408 of 589: buturlinovka | Completed\n",
      "Request 409 of 589: moussoro | Completed\n",
      "Request 410 of 589: palmer | Completed\n",
      "Request 411 of 589: burdur | Completed\n",
      "Request 412 of 589: geraldton | Completed\n",
      "Request 413 of 589: bubaque | Completed\n",
      "Request 414 of 589: tupaciguara | Completed\n",
      "Request 415 of 589: tidore | Completed\n",
      "Request 416 of 589: watertown | Completed\n",
      "Request 417 of 589: keti bandar | Completed\n",
      "Request 418 of 589: mount gambier | Completed\n",
      "Request 419 of 589: wajima | Completed\n",
      "Request 420 of 589: galiwinku | Completed\n",
      "Request 421 of 589: channel-port aux basques | Completed\n",
      "Request 422 of 589: hirado | Completed\n",
      "Request 423 of 589: burica | Completed\n",
      "Request 424 of 589: kostino | Completed\n",
      "Request 425 of 589: nizhniy tagil | Completed\n",
      "Request 426 of 589: penhold | Completed\n",
      "Request 427 of 589: uuemoisa | Completed\n",
      "Request 428 of 589: araouane | Completed\n",
      "Request 429 of 589: saint-joseph | Completed\n",
      "Request 430 of 589: nola | Completed\n",
      "Request 431 of 589: whitehorse | Completed\n",
      "Request 432 of 589: kysyl-syr | Completed\n",
      "Request 433 of 589: college | Completed\n",
      "Request 434 of 589: hirara | Completed\n",
      "Request 435 of 589: ginda | Completed\n",
      "Request 436 of 589: pedernales | Completed\n",
      "Request 437 of 589: hovd | Completed\n",
      "Request 438 of 589: gland | Completed\n",
      "Request 439 of 589: marawi | Completed\n",
      "Request 440 of 589: lundazi | Completed\n",
      "Request 441 of 589: padang | Completed\n",
      "Request 442 of 589: playas | Completed\n",
      "Request 443 of 589: nuuk | Completed\n",
      "Request 444 of 589: flagstaff | Completed\n",
      "Request 445 of 589: auki | Completed\n",
      "Request 446 of 589: gazanjyk | Completed\n",
      "Request 447 of 589: comodoro rivadavia | Completed\n",
      "Request 448 of 589: porechye-rybnoye | Completed\n",
      "Request 449 of 589: xai-xai | Completed\n",
      "Request 450 of 589: iralaya | Completed\n",
      "Request 451 of 589: sambava | Completed\n",
      "Request 452 of 589: jardim | Completed\n",
      "Request 453 of 589: orebro | Completed\n",
      "Request 454 of 589: kavieng | Completed\n",
      "Request 455 of 589: elban | Completed\n",
      "Request 456 of 589: codrington | Completed\n",
      "Request 457 of 589: jalu | Completed\n",
      "Request 458 of 589: port-gentil | Completed\n",
      "Request 459 of 589: havoysund | Completed\n",
      "Request 460 of 589: ocampo | Completed\n",
      "Request 461 of 589: natal | Completed\n",
      "Request 462 of 589: yerazgavors | Completed\n",
      "Request 463 of 589: aksu | Completed\n",
      "Request 464 of 589: merke | Completed\n",
      "Request 465 of 589: ponferrada | Completed\n",
      "Request 466 of 589: mayor pablo lagerenza | Completed\n",
      "Request 467 of 589: san juan | Completed\n",
      "Request 468 of 589: indiana | Completed\n",
      "Request 469 of 589: sibolga | Completed\n",
      "Request 470 of 589: carutapera | Completed\n",
      "Request 471 of 589: ternate | Completed\n",
      "Request 472 of 589: tupelo | Completed\n",
      "Request 473 of 589: chepareria | Completed\n",
      "Request 474 of 589: nome | Completed\n",
      "Request 475 of 589: umm durman | Completed\n",
      "Request 476 of 589: kismayo | Completed\n",
      "Request 477 of 589: galveston | Completed\n",
      "Request 478 of 589: tripoli | Completed\n",
      "Request 479 of 589: panaba | Completed\n",
      "Request 480 of 589: raigarh | Completed\n",
      "Request 481 of 589: weyburn | Completed\n",
      "Request 482 of 589: namyslow | Completed\n",
      "Request 483 of 589: komsomolskiy | Completed\n",
      "Request 484 of 589: narrabri | Completed\n",
      "Request 485 of 589: riyadh | Completed\n",
      "Request 486 of 589: avera | Completed\n",
      "Request 487 of 589: brownwood | Completed\n",
      "Request 488 of 589: paita | Completed\n",
      "Request 489 of 589: garowe | Completed\n",
      "Request 490 of 589: dhidhdhoo | Completed\n",
      "Request 491 of 589: port lincoln | Completed\n",
      "Request 492 of 589: takab | Completed\n",
      "Request 493 of 589: valdivia | Completed\n",
      "Request 494 of 589: mazagao | Completed\n",
      "Request 495 of 589: san carlos de bariloche | Completed\n",
      "Request 496 of 589: pingzhuang | Completed\n",
      "Request 497 of 589: san miguel | Completed\n",
      "Request 498 of 589: gat | Completed\n",
      "Request 499 of 589: lata | Completed\n",
      "Request 500 of 589: slyudyanka | Completed\n",
      "Request 501 of 589: kalmunai | Completed\n",
      "Request 502 of 589: ostrovnoy | Completed\n",
      "Request 503 of 589: saldanha | Completed\n",
      "Request 504 of 589: lasa | Completed\n",
      "Request 505 of 589: poronaysk | Completed\n",
      "Request 506 of 589: gamba | Completed\n",
      "Request 507 of 589: senanga | Completed\n",
      "Request 508 of 589: beaupre | Completed\n",
      "Request 509 of 589: businga | Completed\n",
      "Request 510 of 589: monte cristi | Completed\n",
      "Request 511 of 589: racine | Completed\n",
      "Request 512 of 589: lavrentiya | Completed\n",
      "Request 513 of 589: north valley | Completed\n",
      "Request 514 of 589: belmonte | Completed\n",
      "Request 515 of 589: calderitas | Completed\n",
      "Request 516 of 589: balimo | Completed\n",
      "Request 517 of 589: patacamaya | Completed\n",
      "Request 518 of 589: jaguaquara | Completed\n",
      "Request 519 of 589: zhigansk | Completed\n",
      "Request 520 of 589: takoradi | Completed\n",
      "Request 521 of 589: altamira | Completed\n",
      "Request 522 of 589: maltahohe | Completed\n",
      "Request 523 of 589: san julian | Completed\n",
      "Request 524 of 589: madang | Completed\n",
      "Request 525 of 589: diofior | Completed\n",
      "Request 526 of 589: inhambane | Completed\n",
      "Request 527 of 589: mahanoro | Completed\n",
      "Request 528 of 589: puerto escondido | Completed\n",
      "Request 529 of 589: santa lucia | Completed\n",
      "Request 530 of 589: karasburg | Completed\n",
      "Request 531 of 589: russell | Completed\n",
      "Request 532 of 589: bontang | Completed\n",
      "Request 533 of 589: vagur | Completed\n",
      "Request 534 of 589: sarangani | Completed\n",
      "Request 535 of 589: phra phutthabat | Completed\n",
      "Request 536 of 589: turinsk | Completed\n",
      "Request 537 of 589: nsukka | Completed\n",
      "Request 538 of 589: dubbo | Completed\n",
      "Request 539 of 589: babanusah | Completed\n",
      "Request 540 of 589: grootfontein | Completed\n",
      "Request 541 of 589: marcona | Completed\n",
      "Request 542 of 589: aflu | Completed\n",
      "Request 543 of 589: loei | Completed\n",
      "Request 544 of 589: goba | Completed\n",
      "Request 545 of 589: tecoanapa | Completed\n",
      "Request 546 of 589: revelstoke | Completed\n",
      "Request 547 of 589: pali | Completed\n",
      "Request 548 of 589: faanui | Completed\n",
      "Request 549 of 589: wageningen | Completed\n",
      "Request 550 of 589: usinsk | Completed\n",
      "Request 551 of 589: bandarbeyla | Completed\n",
      "Request 552 of 589: tual | Completed\n",
      "Request 553 of 589: samusu | Completed\n",
      "Request 554 of 589: dong hoi | Completed\n",
      "Request 555 of 589: puqi | Completed\n",
      "Request 556 of 589: linxia | Completed\n",
      "Request 557 of 589: kisangani | Completed\n",
      "Request 558 of 589: shenjiamen | Completed\n",
      "Request 559 of 589: pontianak | Completed\n",
      "Request 560 of 589: khasan | Completed\n",
      "Request 561 of 589: ligayan | Completed\n",
      "Request 562 of 589: husavik | Completed\n",
      "Request 563 of 589: eureka | Completed\n",
      "Request 564 of 589: talcahuano | Completed\n",
      "Request 565 of 589: opuwo | Completed\n",
      "Request 566 of 589: djibo | Completed\n",
      "Request 567 of 589: porto novo | Completed\n",
      "Request 568 of 589: taltal | Completed\n",
      "Request 569 of 589: casper | Completed\n",
      "Request 570 of 589: jinji | Completed\n",
      "Request 571 of 589: maceio | Completed\n",
      "Request 572 of 589: punta gorda | Completed\n",
      "Request 573 of 589: monrovia | Completed\n",
      "Request 574 of 589: kaliua | Completed\n",
      "Request 575 of 589: urucui | Completed\n",
      "Request 576 of 589: khandyga | Completed\n",
      "Request 577 of 589: warqla | Completed\n",
      "Request 578 of 589: port hawkesbury | Completed\n",
      "Request 579 of 589: islamkot | Completed\n",
      "Request 580 of 589: atar | Completed\n",
      "Request 581 of 589: verkhoyansk | Completed\n",
      "Request 582 of 589: sonepur | Completed\n",
      "Request 583 of 589: sironj | Completed\n",
      "Request 584 of 589: noyabrsk | Completed\n",
      "Request 585 of 589: sorland | Completed\n",
      "Request 586 of 589: high rock | Completed\n",
      "Request 587 of 589: bria | Completed\n",
      "Request 588 of 589: mount isa | Completed\n",
      "Request 589 of 589: haibowan | Completed\n",
      "\n",
      "Requests completed.\n",
      "\n"
     ]
    }
   ],
   "source": [
    "#test = city.city_name\n",
    "\n",
    "# set weather api key\n",
    "weather_api_key = \"859160b27a66fa30ac536a960cbbf7cd\"\n",
    "\n",
    "# set output file url\n",
    "output_json_url = \"C:/Users/palan/NW-Data-Science/Python-Api-Challenge/output_data/output.json\"\n",
    "\n",
    "# open csv file to write outputs into\n",
    "with open(output_json_url, \"w\") as json_file:\n",
    "    \n",
    "    # initializing print log counter\n",
    "    i = 0\n",
    "    \n",
    "    json_list = []\n",
    "    \n",
    "    # iterate through weather api call outputs\n",
    "    for city in cities:\n",
    "\n",
    "        # populate weather api url & fetch request\n",
    "        weather_api_url = f\"https://api.openweathermap.org/data/2.5/weather?q={city}&appid={weather_api_key}\"\n",
    "        weather_output = requests.get(weather_api_url).json()\n",
    "        json_list.append(weather_output)\n",
    "        \n",
    "        # increment print log counter\n",
    "        i = i + 1\n",
    "        \n",
    "        # json_file.write(weather_output)\n",
    "        \n",
    "        #Print request output log\n",
    "        print(f'Request {i} of {len(cities)}: {city} | Completed')\n",
    "\n",
    "    json_object = json.dumps(json_list, indent = 4)\n",
    "    json_file.write(json_object)\n",
    "\n",
    "json_file.close()\n",
    "        \n",
    "print('\\nRequests completed.\\n')\n"
   ]
  },
  {
   "cell_type": "markdown",
   "metadata": {},
   "source": [
    "### Convert Raw Data to DataFrame\n",
    "* Export the city data into a .csv.\n",
    "* Display the DataFrame"
   ]
  },
  {
   "cell_type": "code",
   "execution_count": 52,
   "metadata": {},
   "outputs": [
    {
     "name": "stdout",
     "output_type": "stream",
     "text": [
      "\n",
      "Number of Cities Skipped: 44\n",
      "Output data table of cities & weather conditions parsed from JSON file.\n"
     ]
    },
    {
     "data": {
      "text/html": [
       "<div>\n",
       "<style scoped>\n",
       "    .dataframe tbody tr th:only-of-type {\n",
       "        vertical-align: middle;\n",
       "    }\n",
       "\n",
       "    .dataframe tbody tr th {\n",
       "        vertical-align: top;\n",
       "    }\n",
       "\n",
       "    .dataframe thead th {\n",
       "        text-align: right;\n",
       "    }\n",
       "</style>\n",
       "<table border=\"1\" class=\"dataframe\">\n",
       "  <thead>\n",
       "    <tr style=\"text-align: right;\">\n",
       "      <th></th>\n",
       "      <th>City Name</th>\n",
       "      <th>Latitude</th>\n",
       "      <th>Longitude</th>\n",
       "      <th>Max Temperature [C]</th>\n",
       "      <th>Humidity</th>\n",
       "      <th>Cloudiness</th>\n",
       "      <th>Wind Speed</th>\n",
       "    </tr>\n",
       "  </thead>\n",
       "  <tbody>\n",
       "    <tr>\n",
       "      <th>0</th>\n",
       "      <td>Colares</td>\n",
       "      <td>38.80</td>\n",
       "      <td>-9.45</td>\n",
       "      <td>17.93</td>\n",
       "      <td>82</td>\n",
       "      <td>75</td>\n",
       "      <td>10.289924</td>\n",
       "    </tr>\n",
       "    <tr>\n",
       "      <th>1</th>\n",
       "      <td>Mabaruma</td>\n",
       "      <td>8.20</td>\n",
       "      <td>-59.78</td>\n",
       "      <td>31.60</td>\n",
       "      <td>62</td>\n",
       "      <td>86</td>\n",
       "      <td>5.838413</td>\n",
       "    </tr>\n",
       "    <tr>\n",
       "      <th>2</th>\n",
       "      <td>Rikitea</td>\n",
       "      <td>-23.12</td>\n",
       "      <td>-134.97</td>\n",
       "      <td>23.87</td>\n",
       "      <td>82</td>\n",
       "      <td>94</td>\n",
       "      <td>22.883896</td>\n",
       "    </tr>\n",
       "    <tr>\n",
       "      <th>3</th>\n",
       "      <td>Chicama</td>\n",
       "      <td>-7.84</td>\n",
       "      <td>-79.15</td>\n",
       "      <td>19.15</td>\n",
       "      <td>77</td>\n",
       "      <td>20</td>\n",
       "      <td>11.408394</td>\n",
       "    </tr>\n",
       "    <tr>\n",
       "      <th>4</th>\n",
       "      <td>Butaritari</td>\n",
       "      <td>3.07</td>\n",
       "      <td>172.79</td>\n",
       "      <td>27.92</td>\n",
       "      <td>68</td>\n",
       "      <td>100</td>\n",
       "      <td>6.755559</td>\n",
       "    </tr>\n",
       "  </tbody>\n",
       "</table>\n",
       "</div>"
      ],
      "text/plain": [
       "    City Name  Latitude  Longitude  Max Temperature [C]  Humidity  Cloudiness  \\\n",
       "0     Colares     38.80      -9.45                17.93        82          75   \n",
       "1    Mabaruma      8.20     -59.78                31.60        62          86   \n",
       "2     Rikitea    -23.12    -134.97                23.87        82          94   \n",
       "3     Chicama     -7.84     -79.15                19.15        77          20   \n",
       "4  Butaritari      3.07     172.79                27.92        68         100   \n",
       "\n",
       "   Wind Speed  \n",
       "0   10.289924  \n",
       "1    5.838413  \n",
       "2   22.883896  \n",
       "3   11.408394  \n",
       "4    6.755559  "
      ]
     },
     "execution_count": 52,
     "metadata": {},
     "output_type": "execute_result"
    }
   ],
   "source": [
    "with open(\"C:/Users/palan/NW-Data-Science/Python-Api-Challenge/output_data/output.json\", \"r\") as read_file:\n",
    "    data = json.load(read_file)\n",
    "\n",
    "w_df = pd.DataFrame.from_dict(data, orient='columns')\n",
    "\n",
    "# initializing list variants\n",
    "city_name = []\n",
    "lat = []\n",
    "lon = []\n",
    "temp = []\n",
    "humidity = []\n",
    "cloud = []\n",
    "wind = []\n",
    "\n",
    "# initialize counter for tallying errors, when cities from JSON file are skipped\n",
    "exception_count = 0\n",
    "\n",
    "for city in range(cities_count): \n",
    "    \n",
    "    #check for errors in any city inputs before populating appending to list values\n",
    "    try:\n",
    "\n",
    "        # CHECK FOR ERRORS IN ANY CITIES\n",
    "    \n",
    "        # get city name\n",
    "        get_city_name = w_df['name'][city]    \n",
    "\n",
    "        # get latitude\n",
    "        get_lat = w_df['coord'][city]['lat']\n",
    "\n",
    "        # get longitude\n",
    "        get_lon = w_df['coord'][city]['lon']\n",
    "\n",
    "        # get temperature\n",
    "        get_temp = w_df['main'][city]['temp_max']\n",
    "\n",
    "        # get humidity\n",
    "        get_humidity = w_df['main'][city]['humidity']\n",
    "\n",
    "        # get cloudiness\n",
    "        get_cloud = w_df['clouds'][city]['all']\n",
    "\n",
    "        # get wind speed\n",
    "        get_wind = w_df['wind'][city]['speed']\n",
    "\n",
    "        \n",
    "        # IF NO ERRORS, THEN APPEND TO LIST\n",
    "        \n",
    "        # get city name\n",
    "        city_name.append(get_city_name)  \n",
    "\n",
    "        # get latitude\n",
    "        lat.append(get_lat)\n",
    "\n",
    "        # get longitude\n",
    "        lon.append(get_lon)\n",
    "\n",
    "        # get temperature, adjust from Kelvin to celcius\n",
    "        temp.append(get_temp - 273)\n",
    "\n",
    "        # get humidity\n",
    "        humidity.append(get_humidity)\n",
    "\n",
    "        # get cloudiness\n",
    "        cloud.append(get_cloud)\n",
    "\n",
    "        # get wind speed, convert from m/s to mph\n",
    "        wind.append(get_wind * 2.23694)\n",
    "        \n",
    "    # if error, skip to next city\n",
    "    except:    \n",
    "    \n",
    "        exception_count = exception_count + 1\n",
    "        #continue to next city in loop\n",
    "        \n",
    "print(f'\\nNumber of Cities Skipped: {exception_count}')\n",
    "\n",
    "print('Output data table of cities & weather conditions parsed from JSON file.')\n",
    "\n",
    "# merge weather data lists into a single dataframe\n",
    "weather_df = pd.DataFrame(\n",
    "    {'City Name': city_name,\n",
    "    'Latitude': lat,\n",
    "     'Longitude': lon,\n",
    "     'Max Temperature [C]': temp,\n",
    "     'Humidity': humidity,\n",
    "     'Cloudiness': cloud,\n",
    "     'Wind Speed': wind\n",
    "    })\n",
    "\n",
    "# print mereged data frame\n",
    "weather_df.head(n=5)\n"
   ]
  },
  {
   "cell_type": "code",
   "execution_count": 53,
   "metadata": {},
   "outputs": [
    {
     "name": "stdout",
     "output_type": "stream",
     "text": [
      "\n",
      "CSV output file successfully created: output_cities.csv\n",
      "\n"
     ]
    }
   ],
   "source": [
    "# write merged data frame to CSV file\n",
    "csv_file_name = 'output_cities'\n",
    "weather_df.to_csv(f'C:/Users/palan/NW-Data-Science/Python-Api-Challenge/output_data/{csv_file_name}.csv', index=False)\n",
    "\n",
    "print(f'\\nCSV output file successfully created: {csv_file_name}.csv\\n')\n"
   ]
  },
  {
   "cell_type": "markdown",
   "metadata": {},
   "source": [
    "## Inspect the data and remove the cities where the humidity > 100%.\n",
    "----\n",
    "Skip this step if there are no cities that have humidity > 100%. "
   ]
  },
  {
   "cell_type": "code",
   "execution_count": 54,
   "metadata": {},
   "outputs": [
    {
     "name": "stdout",
     "output_type": "stream",
     "text": [
      "\n",
      "Number of cities in cleaned (humidity greater than 100% removed) data frame: 545\n",
      "\n"
     ]
    }
   ],
   "source": [
    "# Retrieve data from CSV output file\n",
    "cities_path = \"C:/Users/palan/NW-Data-Science/Python-Api-Challenge/output_data/output_cities.csv\"\n",
    "cities_df = pd.read_csv(cities_path)\n",
    "\n",
    "# remove any cities (i.e., rows) with humidity > 100\n",
    "drop_index = cities_df[cities_df['Humidity'] > 100].index\n",
    "cities_df.drop(drop_index, inplace = True)\n",
    "\n",
    "# confirm number of cities in list\n",
    "print(f'\\nNumber of cities in cleaned (humidity greater than 100% removed) data frame: {cities_df.shape[0]}\\n')\n"
   ]
  },
  {
   "cell_type": "markdown",
   "metadata": {},
   "source": [
    "## Plotting the Data\n",
    "* Use proper labeling of the plots using plot titles (including date of analysis) and axes labels.\n",
    "* Save the plotted figures as .pngs."
   ]
  },
  {
   "cell_type": "code",
   "execution_count": 55,
   "metadata": {},
   "outputs": [
    {
     "name": "stdout",
     "output_type": "stream",
     "text": [
      "\n",
      "Cities data frame with hemisphere column added.\n"
     ]
    },
    {
     "data": {
      "text/html": [
       "<div>\n",
       "<style scoped>\n",
       "    .dataframe tbody tr th:only-of-type {\n",
       "        vertical-align: middle;\n",
       "    }\n",
       "\n",
       "    .dataframe tbody tr th {\n",
       "        vertical-align: top;\n",
       "    }\n",
       "\n",
       "    .dataframe thead th {\n",
       "        text-align: right;\n",
       "    }\n",
       "</style>\n",
       "<table border=\"1\" class=\"dataframe\">\n",
       "  <thead>\n",
       "    <tr style=\"text-align: right;\">\n",
       "      <th></th>\n",
       "      <th>City Name</th>\n",
       "      <th>Latitude</th>\n",
       "      <th>Longitude</th>\n",
       "      <th>Max Temperature [C]</th>\n",
       "      <th>Humidity</th>\n",
       "      <th>Cloudiness</th>\n",
       "      <th>Wind Speed</th>\n",
       "      <th>Abs Latitude</th>\n",
       "      <th>Hemisphere</th>\n",
       "    </tr>\n",
       "  </thead>\n",
       "  <tbody>\n",
       "    <tr>\n",
       "      <th>0</th>\n",
       "      <td>Colares</td>\n",
       "      <td>38.80</td>\n",
       "      <td>-9.45</td>\n",
       "      <td>17.93</td>\n",
       "      <td>82</td>\n",
       "      <td>75</td>\n",
       "      <td>10.289924</td>\n",
       "      <td>38.80</td>\n",
       "      <td>Northern</td>\n",
       "    </tr>\n",
       "    <tr>\n",
       "      <th>1</th>\n",
       "      <td>Mabaruma</td>\n",
       "      <td>8.20</td>\n",
       "      <td>-59.78</td>\n",
       "      <td>31.60</td>\n",
       "      <td>62</td>\n",
       "      <td>86</td>\n",
       "      <td>5.838413</td>\n",
       "      <td>8.20</td>\n",
       "      <td>Northern</td>\n",
       "    </tr>\n",
       "    <tr>\n",
       "      <th>2</th>\n",
       "      <td>Rikitea</td>\n",
       "      <td>-23.12</td>\n",
       "      <td>-134.97</td>\n",
       "      <td>23.87</td>\n",
       "      <td>82</td>\n",
       "      <td>94</td>\n",
       "      <td>22.883896</td>\n",
       "      <td>23.12</td>\n",
       "      <td>Southern</td>\n",
       "    </tr>\n",
       "    <tr>\n",
       "      <th>3</th>\n",
       "      <td>Chicama</td>\n",
       "      <td>-7.84</td>\n",
       "      <td>-79.15</td>\n",
       "      <td>19.15</td>\n",
       "      <td>77</td>\n",
       "      <td>20</td>\n",
       "      <td>11.408394</td>\n",
       "      <td>7.84</td>\n",
       "      <td>Southern</td>\n",
       "    </tr>\n",
       "    <tr>\n",
       "      <th>4</th>\n",
       "      <td>Butaritari</td>\n",
       "      <td>3.07</td>\n",
       "      <td>172.79</td>\n",
       "      <td>27.92</td>\n",
       "      <td>68</td>\n",
       "      <td>100</td>\n",
       "      <td>6.755559</td>\n",
       "      <td>3.07</td>\n",
       "      <td>Northern</td>\n",
       "    </tr>\n",
       "  </tbody>\n",
       "</table>\n",
       "</div>"
      ],
      "text/plain": [
       "    City Name  Latitude  Longitude  Max Temperature [C]  Humidity  Cloudiness  \\\n",
       "0     Colares     38.80      -9.45                17.93        82          75   \n",
       "1    Mabaruma      8.20     -59.78                31.60        62          86   \n",
       "2     Rikitea    -23.12    -134.97                23.87        82          94   \n",
       "3     Chicama     -7.84     -79.15                19.15        77          20   \n",
       "4  Butaritari      3.07     172.79                27.92        68         100   \n",
       "\n",
       "   Wind Speed  Abs Latitude Hemisphere  \n",
       "0   10.289924         38.80   Northern  \n",
       "1    5.838413          8.20   Northern  \n",
       "2   22.883896         23.12   Southern  \n",
       "3   11.408394          7.84   Southern  \n",
       "4    6.755559          3.07   Northern  "
      ]
     },
     "execution_count": 55,
     "metadata": {},
     "output_type": "execute_result"
    }
   ],
   "source": [
    "# creating new column in original cities dataframe with absolute value of latitude\n",
    "cities_df['Abs Latitude'] = abs(cities_df['Latitude'])\n",
    "\n",
    "# parse data into northern & souther hemispheres\n",
    "cities_df['Hemisphere'] = np.where(cities_df['Latitude']>=0, 'Northern', 'Southern')\n",
    "\n",
    "north_cities_df = cities_df[cities_df['Hemisphere'] == 'Northern']\n",
    "south_cities_df = cities_df[cities_df['Hemisphere'] == 'Southern']\n",
    "\n",
    "print('\\nCities data frame with hemisphere column added.')\n",
    "cities_df.head(n=5)\n"
   ]
  },
  {
   "cell_type": "markdown",
   "metadata": {},
   "source": [
    "## Latitude vs. Temperature Plot"
   ]
  },
  {
   "cell_type": "code",
   "execution_count": 70,
   "metadata": {
    "scrolled": true
   },
   "outputs": [
    {
     "data": {
      "image/png": "[encoded data removed]",
      "text/plain": [
       "<Figure size 432x288 with 1 Axes>"
      ]
     },
     "metadata": {
      "needs_background": "light"
     },
     "output_type": "display_data"
    }
   ],
   "source": [
    "# Creating max temp vs. latitude plot\n",
    "line_plot = cities_df.plot.scatter(x='Abs Latitude',y='Max Temperature [C]',c='DarkBlue')\n",
    "plt.title(\"Maximum City Temperature [C] vs. Absolute Value of Latitude\")\n",
    "plt.xlabel('Absolute Value of City Latitude')\n",
    "plt.ylabel('Maximum City Temperature [C]')\n",
    "\n",
    "plot_name = \"City Temp vs. Abs Latitude\"\n",
    "plt.savefig(f'C:/Users/palan/NW-Data-Science/Python-Api-Challenge/output_data/{plot_name}.png')\n"
   ]
  },
  {
   "cell_type": "markdown",
   "metadata": {},
   "source": [
    "## Latitude vs. Humidity Plot"
   ]
  },
  {
   "cell_type": "code",
   "execution_count": 71,
   "metadata": {},
   "outputs": [
    {
     "data": {
      "image/png": "[encoded data removed]",
      "text/plain": [
       "<Figure size 432x288 with 1 Axes>"
      ]
     },
     "metadata": {
      "needs_background": "light"
     },
     "output_type": "display_data"
    }
   ],
   "source": [
    "# Creating humidity vs. latitude plot\n",
    "line_plot = cities_df.plot.scatter(x='Abs Latitude',y='Humidity',c='DarkBlue')\n",
    "plt.title(\"Percent Humidity vs. Absolute Value in Latitude\")\n",
    "plt.xlabel('Absolute Value of City Latitude')\n",
    "plt.ylabel('Humidity [%]')\n",
    "\n",
    "plot_name = \"Humidity vs. Abs Latitude\"\n",
    "plt.savefig(f'C:/Users/palan/NW-Data-Science/Python-Api-Challenge/output_data/{plot_name}.png')\n"
   ]
  },
  {
   "cell_type": "markdown",
   "metadata": {},
   "source": [
    "## Latitude vs. Cloudiness Plot"
   ]
  },
  {
   "cell_type": "code",
   "execution_count": 72,
   "metadata": {},
   "outputs": [
    {
     "data": {
      "image/png": "[encoded data removed]",
      "text/plain": [
       "<Figure size 432x288 with 1 Axes>"
      ]
     },
     "metadata": {
      "needs_background": "light"
     },
     "output_type": "display_data"
    }
   ],
   "source": [
    "# Creating cloudiness vs. latitude plot\n",
    "line_plot = cities_df.plot.scatter(x='Abs Latitude',y='Cloudiness',c='DarkBlue')\n",
    "plt.title(\"Percent Cloudiness vs. Absolute Value in Latitude\")\n",
    "plt.xlabel('Absolute Value of City Latitude')\n",
    "plt.ylabel('Cloudiness [%]')\n",
    "\n",
    "plot_name = \"Cloudiness vs. Abs Latitude\"\n",
    "plt.savefig(f'C:/Users/palan/NW-Data-Science/Python-Api-Challenge/output_data/{plot_name}.png')\n"
   ]
  },
  {
   "cell_type": "markdown",
   "metadata": {},
   "source": [
    "## Latitude vs. Wind Speed Plot"
   ]
  },
  {
   "cell_type": "code",
   "execution_count": 73,
   "metadata": {},
   "outputs": [
    {
     "data": {
      "image/png": "[encoded data removed]",
      "text/plain": [
       "<Figure size 432x288 with 1 Axes>"
      ]
     },
     "metadata": {
      "needs_background": "light"
     },
     "output_type": "display_data"
    }
   ],
   "source": [
    "# Creating wind speed vs. latitude plot\n",
    "line_plot = cities_df.plot.scatter(x='Abs Latitude',y='Wind Speed',c='DarkBlue')\n",
    "plt.title(\"Wind Speed vs. Absolute Value in Latitude\")\n",
    "plt.xlabel('Absolute Value of City Latitude')\n",
    "plt.ylabel('Wind Speed [mph]')\n",
    "\n",
    "plot_name = \"Wind Speed vs. Abs Latitude\"\n",
    "plt.savefig(f'C:/Users/palan/NW-Data-Science/Python-Api-Challenge/output_data/{plot_name}.png')\n"
   ]
  },
  {
   "cell_type": "markdown",
   "metadata": {},
   "source": [
    "## Linear Regression"
   ]
  },
  {
   "cell_type": "markdown",
   "metadata": {},
   "source": [
    "## Max Temperature vs. Latitude"
   ]
  },
  {
   "cell_type": "code",
   "execution_count": 74,
   "metadata": {},
   "outputs": [
    {
     "name": "stderr",
     "output_type": "stream",
     "text": [
      "<ipython-input-74-ca73d9a0bcf6>:7: SettingWithCopyWarning: \n",
      "A value is trying to be set on a copy of a slice from a DataFrame.\n",
      "Try using .loc[row_indexer,col_indexer] = value instead\n",
      "\n",
      "See the caveats in the documentation: https://pandas.pydata.org/pandas-docs/stable/user_guide/indexing.html#returning-a-view-versus-a-copy\n",
      "  north_cities_df['temp_y'] = pd.Series([slope*element + intercept for element in x], index = north_cities_df.index)\n"
     ]
    },
    {
     "name": "stdout",
     "output_type": "stream",
     "text": [
      "\n",
      "Slope: -0.53\n",
      "R-Squared: 0.77\n",
      "\n",
      "There's an inverse relationship beween temperature and latitude in the northern hemisphere.\n",
      "This correlation is very strong.\n",
      " \n",
      "\n"
     ]
    },
    {
     "data": {
      "image/png": "[encoded data removed]",
      "text/plain": [
       "<Figure size 432x288 with 1 Axes>"
      ]
     },
     "metadata": {
      "needs_background": "light"
     },
     "output_type": "display_data"
    }
   ],
   "source": [
    "# calculate linear regression\n",
    "x = north_cities_df['Latitude'].to_list()\n",
    "y = north_cities_df['Max Temperature [C]'].to_list()\n",
    "slope, intercept, r_value, p_value, std_err = st.linregress(x,y)\n",
    "\n",
    "# calculate line-of-best-fit values\n",
    "north_cities_df['temp_y'] = pd.Series([slope*element + intercept for element in x], index = north_cities_df.index)\n",
    "\n",
    "# Creating the plot \n",
    "line_plot = north_cities_df.plot.scatter(x='Latitude',y='Max Temperature [C]',c='DarkBlue')\n",
    "plt.title(\"Temperature vs. Latitude\")\n",
    "plt.xlabel('Latitude')\n",
    "plt.ylabel('Temperature [C]')\n",
    "\n",
    "# plotting line-of-best-fit\n",
    "plt.plot('Latitude', 'temp_y', data=north_cities_df, marker='', color='red', linewidth=1)\n",
    "\n",
    "# calculate r-squared from r-value\n",
    "r_sqrd = r_value**2\n",
    "\n",
    "# print slope, r-value, & r-squared\n",
    "print(f'\\nSlope: {round(slope,2)}\\nR-Squared: {round(r_sqrd,2)}')\n",
    "\n",
    "# print analysis statement\n",
    "print('''\n",
    "There's an inverse relationship beween temperature and latitude in the northern hemisphere.\n",
    "This correlation is very strong.\\n \n",
    "''')\n",
    "\n",
    "plot_name = \"Temp vs. North Latitude\"\n",
    "plt.savefig(f'C:/Users/palan/NW-Data-Science/Python-Api-Challenge/output_data/{plot_name}.png')\n"
   ]
  },
  {
   "cell_type": "markdown",
   "metadata": {},
   "source": [
    "####  Southern Hemisphere - Max Temp vs. Latitude Linear Regression"
   ]
  },
  {
   "cell_type": "code",
   "execution_count": 75,
   "metadata": {},
   "outputs": [
    {
     "name": "stderr",
     "output_type": "stream",
     "text": [
      "<ipython-input-75-b27552d875c0>:7: SettingWithCopyWarning: \n",
      "A value is trying to be set on a copy of a slice from a DataFrame.\n",
      "Try using .loc[row_indexer,col_indexer] = value instead\n",
      "\n",
      "See the caveats in the documentation: https://pandas.pydata.org/pandas-docs/stable/user_guide/indexing.html#returning-a-view-versus-a-copy\n",
      "  south_cities_df['temp_y'] = pd.Series([slope*element + intercept for element in x], index = south_cities_df.index)\n"
     ]
    },
    {
     "name": "stdout",
     "output_type": "stream",
     "text": [
      "\n",
      "Slope: 0.35\n",
      "R-Squared: 0.46\n",
      "\n",
      "There's an direct relationship beween temperature and latitude in the southern hemisphere.\n",
      "This correlation is reasonably strong.\n",
      " \n",
      "\n"
     ]
    },
    {
     "data": {
      "image/png": "[encoded data removed]",
      "text/plain": [
       "<Figure size 432x288 with 1 Axes>"
      ]
     },
     "metadata": {
      "needs_background": "light"
     },
     "output_type": "display_data"
    }
   ],
   "source": [
    "# calculate linear regression\n",
    "x = south_cities_df['Latitude'].to_list()\n",
    "y = south_cities_df['Max Temperature [C]'].to_list()\n",
    "slope, intercept, r_value, p_value, std_err = st.linregress(x,y)\n",
    "\n",
    "# calculate line-of-best-fit values\n",
    "south_cities_df['temp_y'] = pd.Series([slope*element + intercept for element in x], index = south_cities_df.index)\n",
    "\n",
    "# Creating the plot \n",
    "line_plot = south_cities_df.plot.scatter(x='Latitude',y='Max Temperature [C]',c='DarkBlue')\n",
    "plt.title(\"Temperature vs. Latitude\")\n",
    "plt.xlabel('Latitude')\n",
    "plt.ylabel('Temperature [C]')\n",
    "\n",
    "# plotting line-of-best-fit\n",
    "plt.plot('Latitude', 'temp_y', data=south_cities_df, marker='', color='red', linewidth=1)\n",
    "\n",
    "# calculate r-squared from r-value\n",
    "r_sqrd = r_value**2\n",
    "\n",
    "# print slope, r-value, & r-squared\n",
    "print(f'\\nSlope: {round(slope,2)}\\nR-Squared: {round(r_sqrd,2)}')\n",
    "\n",
    "# print analysis statement\n",
    "print('''\n",
    "There's an direct relationship beween temperature and latitude in the southern hemisphere.\n",
    "This correlation is reasonably strong.\\n \n",
    "''')\n",
    "\n",
    "plot_name = \"Temp vs. South Latitude\"\n",
    "plt.savefig(f'C:/Users/palan/NW-Data-Science/Python-Api-Challenge/output_data/{plot_name}.png')\n"
   ]
  },
  {
   "cell_type": "markdown",
   "metadata": {},
   "source": [
    "####  Northern Hemisphere - Humidity (%) vs. Latitude Linear Regression"
   ]
  },
  {
   "cell_type": "code",
   "execution_count": 76,
   "metadata": {},
   "outputs": [
    {
     "name": "stderr",
     "output_type": "stream",
     "text": [
      "<ipython-input-76-ebbe2ad18eee>:7: SettingWithCopyWarning: \n",
      "A value is trying to be set on a copy of a slice from a DataFrame.\n",
      "Try using .loc[row_indexer,col_indexer] = value instead\n",
      "\n",
      "See the caveats in the documentation: https://pandas.pydata.org/pandas-docs/stable/user_guide/indexing.html#returning-a-view-versus-a-copy\n",
      "  north_cities_df['humidity_y'] = pd.Series([slope*element + intercept for element in x], index = north_cities_df.index)\n"
     ]
    },
    {
     "name": "stdout",
     "output_type": "stream",
     "text": [
      "\n",
      "Slope: 0.27\n",
      "R-Squared: 0.08\n",
      "\n",
      "There's a direct relationship beween latitude and humidity in the northern hemisphere.\n",
      "This correlation is very weak.\n",
      " \n",
      "\n"
     ]
    },
    {
     "data": {
      "image/png": "[encoded data removed]",
      "text/plain": [
       "<Figure size 432x288 with 1 Axes>"
      ]
     },
     "metadata": {
      "needs_background": "light"
     },
     "output_type": "display_data"
    }
   ],
   "source": [
    "# calculate linear regression\n",
    "x = north_cities_df['Latitude'].to_list()\n",
    "y = north_cities_df['Humidity'].to_list()\n",
    "slope, intercept, r_value, p_value, std_err = st.linregress(x,y)\n",
    "\n",
    "# calculate line-of-best-fit values\n",
    "north_cities_df['humidity_y'] = pd.Series([slope*element + intercept for element in x], index = north_cities_df.index)\n",
    "\n",
    "# Creating the plot \n",
    "line_plot = north_cities_df.plot.scatter(x='Latitude',y='Humidity',c='DarkBlue')\n",
    "plt.title(\"Humidity vs. Latitude\")\n",
    "plt.xlabel('Latitude')\n",
    "plt.ylabel('Humidity [%]')\n",
    "\n",
    "# plotting line-of-best-fit\n",
    "plt.plot('Latitude', 'humidity_y', data=north_cities_df, marker='', color='red', linewidth=1)\n",
    "\n",
    "# calculate r-squared from r-value\n",
    "r_sqrd = r_value**2\n",
    "\n",
    "# print slope, r-value, & r-squared\n",
    "print(f'\\nSlope: {round(slope,2)}\\nR-Squared: {round(r_sqrd,2)}')\n",
    "\n",
    "# print analysis statement\n",
    "print('''\n",
    "There's a direct relationship beween latitude and humidity in the northern hemisphere.\n",
    "This correlation is very weak.\\n \n",
    "''')\n",
    "\n",
    "plot_name = \"Humidity vs. North Latitude\"\n",
    "plt.savefig(f'C:/Users/palan/NW-Data-Science/Python-Api-Challenge/output_data/{plot_name}.png')\n"
   ]
  },
  {
   "cell_type": "markdown",
   "metadata": {},
   "source": [
    "####  Southern Hemisphere - Humidity (%) vs. Latitude Linear Regression"
   ]
  },
  {
   "cell_type": "code",
   "execution_count": 77,
   "metadata": {},
   "outputs": [
    {
     "name": "stderr",
     "output_type": "stream",
     "text": [
      "<ipython-input-77-4cfdf079100c>:7: SettingWithCopyWarning: \n",
      "A value is trying to be set on a copy of a slice from a DataFrame.\n",
      "Try using .loc[row_indexer,col_indexer] = value instead\n",
      "\n",
      "See the caveats in the documentation: https://pandas.pydata.org/pandas-docs/stable/user_guide/indexing.html#returning-a-view-versus-a-copy\n",
      "  south_cities_df['humidity_y'] = pd.Series([slope*element + intercept for element in x], index = south_cities_df.index)\n"
     ]
    },
    {
     "name": "stdout",
     "output_type": "stream",
     "text": [
      "\n",
      "Slope: -0.11\n",
      "R-Squared: 0.0\n",
      "\n",
      "There's a direct relationship beween latitude and humidity in the southern hemisphere.\n",
      "This correlation is fairly weak.\n",
      " \n",
      "\n"
     ]
    },
    {
     "data": {
      "image/png": "[encoded data removed]",
      "text/plain": [
       "<Figure size 432x288 with 1 Axes>"
      ]
     },
     "metadata": {
      "needs_background": "light"
     },
     "output_type": "display_data"
    }
   ],
   "source": [
    "# calculate linear regression\n",
    "x = south_cities_df['Latitude'].to_list()\n",
    "y = south_cities_df['Humidity'].to_list()\n",
    "slope, intercept, r_value, p_value, std_err = st.linregress(x,y)\n",
    "\n",
    "# calculate line-of-best-fit values\n",
    "south_cities_df['humidity_y'] = pd.Series([slope*element + intercept for element in x], index = south_cities_df.index)\n",
    "\n",
    "# Creating the plot \n",
    "line_plot = south_cities_df.plot.scatter(x='Latitude',y='Humidity',c='DarkBlue')\n",
    "plt.title(\"Humidity vs. Latitude\")\n",
    "plt.xlabel('Latitude')\n",
    "plt.ylabel('Humidity [%]')\n",
    "\n",
    "# plotting line-of-best-fit\n",
    "plt.plot('Latitude', 'humidity_y', data=south_cities_df, marker='', color='red', linewidth=1)\n",
    "\n",
    "# calculate r-squared from r-value\n",
    "r_sqrd = r_value**2\n",
    "\n",
    "# print slope, r-value, & r-squared\n",
    "print(f'\\nSlope: {round(slope,2)}\\nR-Squared: {round(r_sqrd,2)}')\n",
    "\n",
    "# print analysis statement\n",
    "print('''\n",
    "There's a direct relationship beween latitude and humidity in the southern hemisphere.\n",
    "This correlation is fairly weak.\\n \n",
    "''')\n",
    "\n",
    "plot_name = \"Humidity vs. South Latitude\"\n",
    "plt.savefig(f'C:/Users/palan/NW-Data-Science/Python-Api-Challenge/output_data/{plot_name}.png')\n"
   ]
  },
  {
   "cell_type": "markdown",
   "metadata": {},
   "source": [
    "####  Northern Hemisphere - Cloudiness (%) vs. Latitude Linear Regression"
   ]
  },
  {
   "cell_type": "code",
   "execution_count": 78,
   "metadata": {},
   "outputs": [
    {
     "name": "stderr",
     "output_type": "stream",
     "text": [
      "<ipython-input-78-98147cfdfbd9>:7: SettingWithCopyWarning: \n",
      "A value is trying to be set on a copy of a slice from a DataFrame.\n",
      "Try using .loc[row_indexer,col_indexer] = value instead\n",
      "\n",
      "See the caveats in the documentation: https://pandas.pydata.org/pandas-docs/stable/user_guide/indexing.html#returning-a-view-versus-a-copy\n",
      "  north_cities_df['cloudiness_y'] = pd.Series([slope*element + intercept for element in x], index = north_cities_df.index)\n"
     ]
    },
    {
     "name": "stdout",
     "output_type": "stream",
     "text": [
      "\n",
      "Slope: 0.17\n",
      "R-Squared: 0.01\n",
      "\n",
      "There's a direct relationship beween latitude and cloudiness in the northern hemisphere.\n",
      "This correlation is fairly weak.\n",
      " \n",
      "\n"
     ]
    },
    {
     "data": {
      "image/png": "[encoded data removed]",
      "text/plain": [
       "<Figure size 432x288 with 1 Axes>"
      ]
     },
     "metadata": {
      "needs_background": "light"
     },
     "output_type": "display_data"
    }
   ],
   "source": [
    "# calculate linear regression\n",
    "x = north_cities_df['Latitude'].to_list()\n",
    "y = north_cities_df['Cloudiness'].to_list()\n",
    "slope, intercept, r_value, p_value, std_err = st.linregress(x,y)\n",
    "\n",
    "# calculate line-of-best-fit values\n",
    "north_cities_df['cloudiness_y'] = pd.Series([slope*element + intercept for element in x], index = north_cities_df.index)\n",
    "\n",
    "# Creating the plot \n",
    "line_plot = north_cities_df.plot.scatter(x='Latitude',y='Cloudiness',c='DarkBlue')\n",
    "plt.title(\"Cloudiness vs. Latitude\")\n",
    "plt.xlabel('Latitude')\n",
    "plt.ylabel('Cloudiness [%]')\n",
    "\n",
    "# plotting line-of-best-fit\n",
    "plt.plot('Latitude', 'cloudiness_y', data=north_cities_df, marker='', color='red', linewidth=1)\n",
    "\n",
    "# calculate r-squared from r-value\n",
    "r_sqrd = r_value**2\n",
    "\n",
    "# print slope, r-value, & r-squared\n",
    "print(f'\\nSlope: {round(slope,2)}\\nR-Squared: {round(r_sqrd,2)}')\n",
    "\n",
    "# print analysis statement\n",
    "print('''\n",
    "There's a direct relationship beween latitude and cloudiness in the northern hemisphere.\n",
    "This correlation is fairly weak.\\n \n",
    "''')\n",
    "\n",
    "plot_name = \"Cloudiness vs. North Latitude\"\n",
    "plt.savefig(f'C:/Users/palan/NW-Data-Science/Python-Api-Challenge/output_data/{plot_name}.png')\n"
   ]
  },
  {
   "cell_type": "markdown",
   "metadata": {},
   "source": [
    "####  Southern Hemisphere - Cloudiness (%) vs. Latitude Linear Regression"
   ]
  },
  {
   "cell_type": "code",
   "execution_count": 79,
   "metadata": {},
   "outputs": [
    {
     "name": "stderr",
     "output_type": "stream",
     "text": [
      "<ipython-input-79-e4d3aad0620f>:7: SettingWithCopyWarning: \n",
      "A value is trying to be set on a copy of a slice from a DataFrame.\n",
      "Try using .loc[row_indexer,col_indexer] = value instead\n",
      "\n",
      "See the caveats in the documentation: https://pandas.pydata.org/pandas-docs/stable/user_guide/indexing.html#returning-a-view-versus-a-copy\n",
      "  south_cities_df['cloudiness_y'] = pd.Series([slope*element + intercept for element in x], index = south_cities_df.index)\n"
     ]
    },
    {
     "name": "stdout",
     "output_type": "stream",
     "text": [
      "\n",
      "Slope: -0.27\n",
      "R-Squared: 0.01\n",
      "\n",
      "There's an indirect relationship beween latitude and cloudiness in the southern hemisphere.\n",
      "This correlation is very weak.\n",
      " \n",
      "\n"
     ]
    },
    {
     "data": {
      "image/png": "[encoded data removed]",
      "text/plain": [
       "<Figure size 432x288 with 1 Axes>"
      ]
     },
     "metadata": {
      "needs_background": "light"
     },
     "output_type": "display_data"
    }
   ],
   "source": [
    "# calculate linear regression\n",
    "x = south_cities_df['Latitude'].to_list()\n",
    "y = south_cities_df['Cloudiness'].to_list()\n",
    "slope, intercept, r_value, p_value, std_err = st.linregress(x,y)\n",
    "\n",
    "# calculate line-of-best-fit values\n",
    "south_cities_df['cloudiness_y'] = pd.Series([slope*element + intercept for element in x], index = south_cities_df.index)\n",
    "\n",
    "# Creating the plot \n",
    "line_plot = south_cities_df.plot.scatter(x='Latitude',y='Cloudiness',c='DarkBlue')\n",
    "plt.title(\"Cloudiness vs. Latitude\")\n",
    "plt.xlabel('Latitude')\n",
    "plt.ylabel('Cloudiness [%]')\n",
    "\n",
    "# plotting line-of-best-fit\n",
    "plt.plot('Latitude', 'cloudiness_y', data=south_cities_df, marker='', color='red', linewidth=1)\n",
    "\n",
    "# calculate r-squared from r-value\n",
    "r_sqrd = r_value**2\n",
    "\n",
    "# print slope, r-value, & r-squared\n",
    "print(f'\\nSlope: {round(slope,2)}\\nR-Squared: {round(r_sqrd,2)}')\n",
    "\n",
    "# print analysis statement\n",
    "print('''\n",
    "There's an indirect relationship beween latitude and cloudiness in the southern hemisphere.\n",
    "This correlation is very weak.\\n \n",
    "''')\n",
    "\n",
    "plot_name = \"Cloudiness vs. South Latitude\"\n",
    "plt.savefig(f'C:/Users/palan/NW-Data-Science/Python-Api-Challenge/output_data/{plot_name}.png')\n"
   ]
  },
  {
   "cell_type": "markdown",
   "metadata": {},
   "source": [
    "####  Northern Hemisphere - Wind Speed (mph) vs. Latitude Linear Regression"
   ]
  },
  {
   "cell_type": "code",
   "execution_count": 80,
   "metadata": {},
   "outputs": [
    {
     "name": "stderr",
     "output_type": "stream",
     "text": [
      "<ipython-input-80-2f8bff4fb58a>:7: SettingWithCopyWarning: \n",
      "A value is trying to be set on a copy of a slice from a DataFrame.\n",
      "Try using .loc[row_indexer,col_indexer] = value instead\n",
      "\n",
      "See the caveats in the documentation: https://pandas.pydata.org/pandas-docs/stable/user_guide/indexing.html#returning-a-view-versus-a-copy\n",
      "  north_cities_df['wind_y'] = pd.Series([slope*element + intercept for element in x], index = north_cities_df.index)\n"
     ]
    },
    {
     "name": "stdout",
     "output_type": "stream",
     "text": [
      "\n",
      "Slope: 0.07\n",
      "R-Squared: 0.05\n",
      "\n",
      "There's essentially no relationship (and no correlation) beween latitude and wind speed in the northern hemisphere. \n",
      "\n"
     ]
    },
    {
     "data": {
      "image/png": "[encoded data removed]",
      "text/plain": [
       "<Figure size 432x288 with 1 Axes>"
      ]
     },
     "metadata": {
      "needs_background": "light"
     },
     "output_type": "display_data"
    }
   ],
   "source": [
    "# calculate linear regression\n",
    "x = north_cities_df['Latitude'].to_list()\n",
    "y = north_cities_df['Wind Speed'].to_list()\n",
    "slope, intercept, r_value, p_value, std_err = st.linregress(x,y)\n",
    "\n",
    "# calculate line-of-best-fit values\n",
    "north_cities_df['wind_y'] = pd.Series([slope*element + intercept for element in x], index = north_cities_df.index)\n",
    "\n",
    "# Creating the plot \n",
    "line_plot = north_cities_df.plot.scatter(x='Latitude',y='Wind Speed',c='DarkBlue')\n",
    "plt.title(\"Wind Speed vs. Latitude\")\n",
    "plt.xlabel('Latitude')\n",
    "plt.ylabel('Wind Speed [mph]')\n",
    "\n",
    "# plotting line-of-best-fit\n",
    "plt.plot('Latitude', 'wind_y', data=north_cities_df, marker='', color='red', linewidth=1)\n",
    "\n",
    "# calculate r-squared from r-value\n",
    "r_sqrd = r_value**2\n",
    "\n",
    "# print slope, r-value, & r-squared\n",
    "print(f'\\nSlope: {round(slope,2)}\\nR-Squared: {round(r_sqrd,2)}')\n",
    "\n",
    "# print analysis statement\n",
    "print('''\n",
    "There's essentially no relationship (and no correlation) beween latitude and wind speed in the northern hemisphere. \n",
    "''')\n",
    "\n",
    "plot_name = \"Wind Speed vs. North Latitude\"\n",
    "plt.savefig(f'C:/Users/palan/NW-Data-Science/Python-Api-Challenge/output_data/{plot_name}.png')\n"
   ]
  },
  {
   "cell_type": "markdown",
   "metadata": {},
   "source": [
    "####  Southern Hemisphere - Wind Speed (mph) vs. Latitude Linear Regression"
   ]
  },
  {
   "cell_type": "code",
   "execution_count": 81,
   "metadata": {},
   "outputs": [
    {
     "name": "stderr",
     "output_type": "stream",
     "text": [
      "<ipython-input-81-4197f476baa6>:7: SettingWithCopyWarning: \n",
      "A value is trying to be set on a copy of a slice from a DataFrame.\n",
      "Try using .loc[row_indexer,col_indexer] = value instead\n",
      "\n",
      "See the caveats in the documentation: https://pandas.pydata.org/pandas-docs/stable/user_guide/indexing.html#returning-a-view-versus-a-copy\n",
      "  south_cities_df['wind_y'] = pd.Series([slope*element + intercept for element in x], index = south_cities_df.index)\n"
     ]
    },
    {
     "name": "stdout",
     "output_type": "stream",
     "text": [
      "\n",
      "Slope: -0.02\n",
      "R-Squared: 0.0\n",
      "\n",
      "There's an indirect relationship beween latitude and wind speed in the southern hemisphere.\n",
      "This correlation is very weak.\n",
      " \n",
      "\n"
     ]
    },
    {
     "data": {
      "image/png": "[encoded data removed]",
      "text/plain": [
       "<Figure size 432x288 with 1 Axes>"
      ]
     },
     "metadata": {
      "needs_background": "light"
     },
     "output_type": "display_data"
    }
   ],
   "source": [
    "# calculate linear regression\n",
    "x = south_cities_df['Latitude'].to_list()\n",
    "y = south_cities_df['Wind Speed'].to_list()\n",
    "slope, intercept, r_value, p_value, std_err = st.linregress(x,y)\n",
    "\n",
    "# calculate line-of-best-fit values\n",
    "south_cities_df['wind_y'] = pd.Series([slope*element + intercept for element in x], index = south_cities_df.index)\n",
    "\n",
    "# Creating the plot \n",
    "line_plot = south_cities_df.plot.scatter(x='Latitude',y='Wind Speed',c='DarkBlue')\n",
    "plt.title(\"Wind Speed vs. Latitude\")\n",
    "plt.xlabel('Latitude')\n",
    "plt.ylabel('Wind Speed [mph]')\n",
    "\n",
    "# plotting line-of-best-fit\n",
    "plt.plot('Latitude', 'wind_y', data=south_cities_df, marker='', color='red', linewidth=1)\n",
    "\n",
    "# calculate r-squared from r-value\n",
    "r_sqrd = r_value**2\n",
    "\n",
    "# print slope, r-value, & r-squared\n",
    "print(f'\\nSlope: {round(slope,2)}\\nR-Squared: {round(r_sqrd,2)}')\n",
    "\n",
    "# print analysis statement\n",
    "print('''\n",
    "There's an indirect relationship beween latitude and wind speed in the southern hemisphere.\n",
    "This correlation is very weak.\\n \n",
    "''')\n",
    "\n",
    "plot_name = \"Wind Speed vs. South Latitude\"\n",
    "plt.savefig(f'C:/Users/palan/NW-Data-Science/Python-Api-Challenge/output_data/{plot_name}.png')\n"
   ]
  }
 ],
 "metadata": {
  "anaconda-cloud": {},
  "kernel_info": {
   "name": "python3"
  },
  "kernelspec": {
   "display_name": "Python 3",
   "language": "python",
   "name": "python3"
  },
  "language_info": {
   "codemirror_mode": {
    "name": "ipython",
    "version": 3
   },
   "file_extension": ".py",
   "mimetype": "text/x-python",
   "name": "python",
   "nbconvert_exporter": "python",
   "pygments_lexer": "ipython3",
   "version": "3.8.3"
  },
  "latex_envs": {
   "LaTeX_envs_menu_present": true,
   "autoclose": false,
   "autocomplete": true,
   "bibliofile": "biblio.bib",
   "cite_by": "apalike",
   "current_citInitial": 1,
   "eqLabelWithNumbers": true,
   "eqNumInitial": 1,
   "hotkeys": {
    "equation": "Ctrl-E",
    "itemize": "Ctrl-I"
   },
   "labels_anchors": false,
   "latex_user_defs": false,
   "report_style_numbering": false,
   "user_envs_cfg": false
  },
  "nteract": {
   "version": "0.12.3"
  }
 },
 "nbformat": 4,
 "nbformat_minor": 2
}
